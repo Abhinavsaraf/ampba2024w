{
  "nbformat": 4,
  "nbformat_minor": 0,
  "metadata": {
    "kernelspec": {
      "display_name": "Python 3",
      "name": "python3"
    },
    "language_info": {
      "codemirror_mode": {
        "name": "ipython",
        "version": 3
      },
      "file_extension": ".py",
      "mimetype": "text/x-python",
      "name": "python",
      "nbconvert_exporter": "python",
      "pygments_lexer": "ipython3",
      "version": "3.6.10"
    },
    "colab": {
      "provenance": [],
      "gpuType": "T4"
    },
    "accelerator": "GPU"
  },
  "cells": [
    {
      "cell_type": "markdown",
      "metadata": {
        "_cell_guid": "b1076dfc-b9ad-4769-8c92-a6c4dae69d19",
        "_uuid": "8f2839f25d086af736a60e9eeb907d3b93b6e0e5",
        "id": "9zzxOqAzMfuA"
      },
      "source": [
        "# Introduction\n",
        "\n",
        "This notebook aims at discovering Convolutional Neural Network. We will see the theory behind it, and an implementation in Pytorch on FashionMNIST dataset.\n"
      ]
    },
    {
      "cell_type": "code",
      "metadata": {
        "scrolled": false,
        "id": "6QsH9KgJMfuJ",
        "colab": {
          "base_uri": "https://localhost:8080/"
        },
        "outputId": "efb21ef8-cee3-4f73-abc8-1851f88865b0"
      },
      "source": [
        "# ! pip install --user -r requirements.txt\n",
        "from IPython import get_ipython\n",
        "import warnings\n",
        "warnings.filterwarnings(\"ignore\")\n",
        "ipython = get_ipython()\n",
        "ipython.magic(\"sx wget https://www.dropbox.com/s/80yl6pxjx7usk4p/ISB_PyTorch_Tutorial.zip\")\n",
        "!unzip -q ISB_PyTorch_Tutorial.zip\n",
        "!mv ISB_PyTorch_Tutorial/* .\n",
        "!pip install torchviz"
      ],
      "execution_count": 1,
      "outputs": [
        {
          "output_type": "stream",
          "name": "stdout",
          "text": [
            "Collecting torchviz\n",
            "  Downloading torchviz-0.0.2.tar.gz (4.9 kB)\n",
            "  Preparing metadata (setup.py) ... \u001b[?25l\u001b[?25hdone\n",
            "Requirement already satisfied: torch in /usr/local/lib/python3.10/dist-packages (from torchviz) (2.3.1+cu121)\n",
            "Requirement already satisfied: graphviz in /usr/local/lib/python3.10/dist-packages (from torchviz) (0.20.3)\n",
            "Requirement already satisfied: filelock in /usr/local/lib/python3.10/dist-packages (from torch->torchviz) (3.15.4)\n",
            "Requirement already satisfied: typing-extensions>=4.8.0 in /usr/local/lib/python3.10/dist-packages (from torch->torchviz) (4.12.2)\n",
            "Requirement already satisfied: sympy in /usr/local/lib/python3.10/dist-packages (from torch->torchviz) (1.13.1)\n",
            "Requirement already satisfied: networkx in /usr/local/lib/python3.10/dist-packages (from torch->torchviz) (3.3)\n",
            "Requirement already satisfied: jinja2 in /usr/local/lib/python3.10/dist-packages (from torch->torchviz) (3.1.4)\n",
            "Requirement already satisfied: fsspec in /usr/local/lib/python3.10/dist-packages (from torch->torchviz) (2024.6.1)\n",
            "Collecting nvidia-cuda-nvrtc-cu12==12.1.105 (from torch->torchviz)\n",
            "  Using cached nvidia_cuda_nvrtc_cu12-12.1.105-py3-none-manylinux1_x86_64.whl.metadata (1.5 kB)\n",
            "Collecting nvidia-cuda-runtime-cu12==12.1.105 (from torch->torchviz)\n",
            "  Using cached nvidia_cuda_runtime_cu12-12.1.105-py3-none-manylinux1_x86_64.whl.metadata (1.5 kB)\n",
            "Collecting nvidia-cuda-cupti-cu12==12.1.105 (from torch->torchviz)\n",
            "  Using cached nvidia_cuda_cupti_cu12-12.1.105-py3-none-manylinux1_x86_64.whl.metadata (1.6 kB)\n",
            "Collecting nvidia-cudnn-cu12==8.9.2.26 (from torch->torchviz)\n",
            "  Using cached nvidia_cudnn_cu12-8.9.2.26-py3-none-manylinux1_x86_64.whl.metadata (1.6 kB)\n",
            "Collecting nvidia-cublas-cu12==12.1.3.1 (from torch->torchviz)\n",
            "  Using cached nvidia_cublas_cu12-12.1.3.1-py3-none-manylinux1_x86_64.whl.metadata (1.5 kB)\n",
            "Collecting nvidia-cufft-cu12==11.0.2.54 (from torch->torchviz)\n",
            "  Using cached nvidia_cufft_cu12-11.0.2.54-py3-none-manylinux1_x86_64.whl.metadata (1.5 kB)\n",
            "Collecting nvidia-curand-cu12==10.3.2.106 (from torch->torchviz)\n",
            "  Using cached nvidia_curand_cu12-10.3.2.106-py3-none-manylinux1_x86_64.whl.metadata (1.5 kB)\n",
            "Collecting nvidia-cusolver-cu12==11.4.5.107 (from torch->torchviz)\n",
            "  Using cached nvidia_cusolver_cu12-11.4.5.107-py3-none-manylinux1_x86_64.whl.metadata (1.6 kB)\n",
            "Collecting nvidia-cusparse-cu12==12.1.0.106 (from torch->torchviz)\n",
            "  Using cached nvidia_cusparse_cu12-12.1.0.106-py3-none-manylinux1_x86_64.whl.metadata (1.6 kB)\n",
            "Collecting nvidia-nccl-cu12==2.20.5 (from torch->torchviz)\n",
            "  Using cached nvidia_nccl_cu12-2.20.5-py3-none-manylinux2014_x86_64.whl.metadata (1.8 kB)\n",
            "Collecting nvidia-nvtx-cu12==12.1.105 (from torch->torchviz)\n",
            "  Using cached nvidia_nvtx_cu12-12.1.105-py3-none-manylinux1_x86_64.whl.metadata (1.7 kB)\n",
            "Requirement already satisfied: triton==2.3.1 in /usr/local/lib/python3.10/dist-packages (from torch->torchviz) (2.3.1)\n",
            "Collecting nvidia-nvjitlink-cu12 (from nvidia-cusolver-cu12==11.4.5.107->torch->torchviz)\n",
            "  Using cached nvidia_nvjitlink_cu12-12.6.20-py3-none-manylinux2014_x86_64.whl.metadata (1.5 kB)\n",
            "Requirement already satisfied: MarkupSafe>=2.0 in /usr/local/lib/python3.10/dist-packages (from jinja2->torch->torchviz) (2.1.5)\n",
            "Requirement already satisfied: mpmath<1.4,>=1.1.0 in /usr/local/lib/python3.10/dist-packages (from sympy->torch->torchviz) (1.3.0)\n",
            "Using cached nvidia_cublas_cu12-12.1.3.1-py3-none-manylinux1_x86_64.whl (410.6 MB)\n",
            "Using cached nvidia_cuda_cupti_cu12-12.1.105-py3-none-manylinux1_x86_64.whl (14.1 MB)\n",
            "Using cached nvidia_cuda_nvrtc_cu12-12.1.105-py3-none-manylinux1_x86_64.whl (23.7 MB)\n",
            "Using cached nvidia_cuda_runtime_cu12-12.1.105-py3-none-manylinux1_x86_64.whl (823 kB)\n",
            "Using cached nvidia_cudnn_cu12-8.9.2.26-py3-none-manylinux1_x86_64.whl (731.7 MB)\n",
            "Using cached nvidia_cufft_cu12-11.0.2.54-py3-none-manylinux1_x86_64.whl (121.6 MB)\n",
            "Using cached nvidia_curand_cu12-10.3.2.106-py3-none-manylinux1_x86_64.whl (56.5 MB)\n",
            "Using cached nvidia_cusolver_cu12-11.4.5.107-py3-none-manylinux1_x86_64.whl (124.2 MB)\n",
            "Using cached nvidia_cusparse_cu12-12.1.0.106-py3-none-manylinux1_x86_64.whl (196.0 MB)\n",
            "Using cached nvidia_nccl_cu12-2.20.5-py3-none-manylinux2014_x86_64.whl (176.2 MB)\n",
            "Using cached nvidia_nvtx_cu12-12.1.105-py3-none-manylinux1_x86_64.whl (99 kB)\n",
            "Using cached nvidia_nvjitlink_cu12-12.6.20-py3-none-manylinux2014_x86_64.whl (19.7 MB)\n",
            "Building wheels for collected packages: torchviz\n",
            "  Building wheel for torchviz (setup.py) ... \u001b[?25l\u001b[?25hdone\n",
            "  Created wheel for torchviz: filename=torchviz-0.0.2-py3-none-any.whl size=4132 sha256=a76ef442ede556d2616b52c91b0fa1de9abd13ae92c708eec5396333b579f416\n",
            "  Stored in directory: /root/.cache/pip/wheels/4c/97/88/a02973217949e0db0c9f4346d154085f4725f99c4f15a87094\n",
            "Successfully built torchviz\n",
            "Installing collected packages: nvidia-nvtx-cu12, nvidia-nvjitlink-cu12, nvidia-nccl-cu12, nvidia-curand-cu12, nvidia-cufft-cu12, nvidia-cuda-runtime-cu12, nvidia-cuda-nvrtc-cu12, nvidia-cuda-cupti-cu12, nvidia-cublas-cu12, nvidia-cusparse-cu12, nvidia-cudnn-cu12, nvidia-cusolver-cu12, torchviz\n",
            "Successfully installed nvidia-cublas-cu12-12.1.3.1 nvidia-cuda-cupti-cu12-12.1.105 nvidia-cuda-nvrtc-cu12-12.1.105 nvidia-cuda-runtime-cu12-12.1.105 nvidia-cudnn-cu12-8.9.2.26 nvidia-cufft-cu12-11.0.2.54 nvidia-curand-cu12-10.3.2.106 nvidia-cusolver-cu12-11.4.5.107 nvidia-cusparse-cu12-12.1.0.106 nvidia-nccl-cu12-2.20.5 nvidia-nvjitlink-cu12-12.6.20 nvidia-nvtx-cu12-12.1.105 torchviz-0.0.2\n"
          ]
        }
      ]
    },
    {
      "cell_type": "code",
      "metadata": {
        "id": "dtmGdk7fMfuN"
      },
      "source": [
        "import torch\n",
        "import random\n",
        "import numpy as np\n",
        "\n",
        "import torch.nn as nn\n",
        "import torch.nn.functional as F\n",
        "import torch.optim as optim\n",
        "from torch.utils.data import DataLoader, TensorDataset\n",
        "from torchviz import make_dot\n",
        "import torchvision\n",
        "from torchvision import datasets, transforms, models"
      ],
      "execution_count": 2,
      "outputs": []
    },
    {
      "cell_type": "markdown",
      "metadata": {
        "id": "GPf9uuWIMfuO"
      },
      "source": [
        "Fashion-MNIST is a dataset of Zalando's article images—consisting of a training set of 60,000 examples and a test set of 10,000 examples. Each example is a 28x28 grayscale image, associated with a label from 10 classes\n",
        "\n",
        "![FashionMNIST Dataset](https://raw.githubusercontent.com/zalandoresearch/fashion-mnist/master/doc/img/fashion-mnist-sprite.png)\n",
        "\n",
        "Pytorch's torchvision module conveniently packages the FashionMNIST dataset into a `torchvision.datasets.FashionMNIST` class for us. We simply need to specify the dataset split (train/test) and the transformations and augmentations we want to apply on each image. We wrap the dataset objects via Pytorch's `torch.utils.data.DataLoader` class to get dataloaders which will return entire batches of samples, and also optionally shuffle the dataset internally."
      ]
    },
    {
      "cell_type": "code",
      "metadata": {
        "id": "-Gvp9crAMfuQ"
      },
      "source": [
        "'''\n",
        "Training time transformations and problem specific data augmentations can be applied here.\n",
        "see : https://pytorch.org/docs/stable/torchvision/transforms.html\n",
        "'''\n",
        "transforms_train = transforms.Compose([\n",
        "    transforms.ToTensor(),\n",
        "    # We've computed the mean and variance for this dataset beforehand, so we can plug it in here\n",
        "    transforms.Normalize((0.1307,), (0.3081,))\n",
        "])\n",
        "'''\n",
        "FashionMNIST is a subclass of torch.utils.data.Dataset, and have __getitem__ and __len__ methods implemented. For creating\n",
        "custom datasets you will have to inherit Dataset class and override __len__() and __getitem__()\n",
        "'''\n",
        "dataset_train = datasets.FashionMNIST(\n",
        "    root='./data', train=True, download=True, transform=transforms_train\n",
        ")\n",
        "'''\n",
        "Pass dataset object to DataLoader, which will later be used for iterating over minibatches\n",
        "'''\n",
        "dataloader_train = DataLoader(\n",
        "    dataset_train, batch_size=128, shuffle=True,\n",
        ")\n",
        "\n",
        "'''\n",
        "Repeat the same thing (defining transforms => dataset instantiation => dataloader creationg) for the test set\n",
        "'''\n",
        "transforms_test =transforms.Compose([\n",
        "    transforms.ToTensor(),\n",
        "    # We've computed the mean and variance for this dataset beforehand, so we can plug it in here\n",
        "    transforms.Normalize((0.1307,), (0.3081,))\n",
        "])\n",
        "\n",
        "dataset_test = datasets.FashionMNIST(\n",
        "    root='./data', train=False, download=False, transform=transforms_test\n",
        ")\n",
        "\n",
        "dataloader_test = DataLoader(\n",
        "    dataset_test, batch_size=128, shuffle=False,\n",
        ")"
      ],
      "execution_count": 3,
      "outputs": []
    },
    {
      "cell_type": "markdown",
      "metadata": {
        "id": "5WAK2KCFMfuS"
      },
      "source": [
        "We now create a CNN class, which has to be a subclass of `torch.nn.Module` and have its own `__init__` and `forward` functions.\n",
        "\n",
        "We choose a simple architecture with `3 convolutional blocks` followed by `2 fully connected blocks`.\n",
        "\n",
        "For layers that do not have any parameters, i.e. layers that are simple mathematical operations on the input, such as ReLU, sigmoid, tanh, softmax, dropout, etc., Pytorch provides a `torch.nn.functional` module with such layers.\n",
        "\n",
        "While one can create a ReLU layer by using `nn.ReLU`, it's easier to just call `torch.nn.functional.relu` on a tensor. This helps reduce clutter, since large models can have many such layers.\n",
        "\n",
        "NOTE: We import `torch.nn.functional` as the alias `F`."
      ]
    },
    {
      "cell_type": "code",
      "metadata": {
        "_uuid": "c669e5f557724154d9f4f5f8b5d0d6c9b676d551",
        "colab": {
          "base_uri": "https://localhost:8080/",
          "height": 1000
        },
        "id": "sJJXhfZnMfuT",
        "outputId": "e02b1d86-c6d6-479d-d837-12c80659d183"
      },
      "source": [
        "class CNN(nn.Module):\n",
        "    def __init__(self):\n",
        "        super(CNN, self).__init__()\n",
        "        # nn.Conv2d API : torch.nn.Conv2d(in_channels, out_channels, kernel_size, stride=1, padding=0, dilation=1, groups=1, bias=True, padding_mode='zeros')\n",
        "        self.conv1 = nn.Conv2d(1, 32, kernel_size=5, stride=1)  # 32 filters of 5x5 size and depth 1 (since input channel = 1)\n",
        "        self.conv2 = nn.Conv2d(32, 32, kernel_size=5) # 32 filters of 5x5 size and depth 32 (since input channel =  1)\n",
        "        self.conv3 = nn.Conv2d(32,64, kernel_size=5) # 64 filters of 5x5 size and depth 32 #params = 64x5x5x32 + 64\n",
        "        # nn.Linear API : torch.nn.Linear(in_features, out_features, bias=True)\n",
        "        self.fc1 = nn.Linear(3*3*64, 256)\n",
        "        self.fc2 = nn.Linear(256, 10)\n",
        "\n",
        "    def forward(self, x):\n",
        "        # BLOCK 1: CONV + RELU\n",
        "        x = F.relu(self.conv1(x))\n",
        "        # BLOCK 2: CONV + MAXPOOL + RELU + DROPOUT\n",
        "        x = F.relu(F.max_pool2d(self.conv2(x), 2))\n",
        "        x = F.dropout(x, p=0.5, training=self.training)\n",
        "        # BLOCK 3: CONV + MAXPOOL + RELU + DROPOUT\n",
        "        x = F.relu(F.max_pool2d(self.conv3(x),2))\n",
        "        x = F.dropout(x, p=0.5, training=self.training)\n",
        "        # FLATTEN\n",
        "        x = x.flatten(start_dim=1)\n",
        "        # BLOCK 4: FC + RELU + DROPOUT\n",
        "        x = F.relu(self.fc1(x))\n",
        "        x = F.dropout(x, training=self.training)\n",
        "        # BLOCK 5: FC\n",
        "        x = self.fc2(x)\n",
        "        return x\n",
        "\n",
        "model = CNN()\n",
        "print(model)\n",
        "\n",
        "# get a random training batch\n",
        "iterator = iter(dataloader_train)\n",
        "X_batch, y_batch = next(iterator)\n",
        "print(X_batch.shape, y_batch.shape, model(X_batch).shape)\n",
        "\n",
        "# pass a batch through the model and visualize the architecture\n",
        "# NOTE: we do not have to explicitly call model.forward(inputs), instead we just do model(inputs)\n",
        "# This is because PyTorch internally takes care of, giving us this syntactic sugar\n",
        "make_dot(model(X_batch), params=dict(model.named_parameters()))"
      ],
      "execution_count": 4,
      "outputs": [
        {
          "output_type": "stream",
          "name": "stdout",
          "text": [
            "CNN(\n",
            "  (conv1): Conv2d(1, 32, kernel_size=(5, 5), stride=(1, 1))\n",
            "  (conv2): Conv2d(32, 32, kernel_size=(5, 5), stride=(1, 1))\n",
            "  (conv3): Conv2d(32, 64, kernel_size=(5, 5), stride=(1, 1))\n",
            "  (fc1): Linear(in_features=576, out_features=256, bias=True)\n",
            "  (fc2): Linear(in_features=256, out_features=10, bias=True)\n",
            ")\n",
            "torch.Size([128, 1, 28, 28]) torch.Size([128]) torch.Size([128, 10])\n"
          ]
        },
        {
          "output_type": "execute_result",
          "data": {
            "image/svg+xml": "<?xml version=\"1.0\" encoding=\"UTF-8\" standalone=\"no\"?>\n<!DOCTYPE svg PUBLIC \"-//W3C//DTD SVG 1.1//EN\"\n \"http://www.w3.org/Graphics/SVG/1.1/DTD/svg11.dtd\">\n<!-- Generated by graphviz version 2.43.0 (0)\n -->\n<!-- Title: %3 Pages: 1 -->\n<svg width=\"443pt\" height=\"864pt\"\n viewBox=\"0.00 0.00 443.10 864.00\" xmlns=\"http://www.w3.org/2000/svg\" xmlns:xlink=\"http://www.w3.org/1999/xlink\">\n<g id=\"graph0\" class=\"graph\" transform=\"scale(0.82 0.82) rotate(0) translate(4 1047)\">\n<title>%3</title>\n<polygon fill=\"white\" stroke=\"transparent\" points=\"-4,4 -4,-1047 535,-1047 535,4 -4,4\"/>\n<!-- 133950702086368 -->\n<g id=\"node1\" class=\"node\">\n<title>133950702086368</title>\n<polygon fill=\"#caff70\" stroke=\"black\" points=\"407,-31 330,-31 330,0 407,0 407,-31\"/>\n<text text-anchor=\"middle\" x=\"368.5\" y=\"-7\" font-family=\"monospace\" font-size=\"10.00\"> (128, 10)</text>\n</g>\n<!-- 133950702140000 -->\n<g id=\"node2\" class=\"node\">\n<title>133950702140000</title>\n<polygon fill=\"lightgrey\" stroke=\"black\" points=\"419,-86 318,-86 318,-67 419,-67 419,-86\"/>\n<text text-anchor=\"middle\" x=\"368.5\" y=\"-74\" font-family=\"monospace\" font-size=\"10.00\">AddmmBackward0</text>\n</g>\n<!-- 133950702140000&#45;&gt;133950702086368 -->\n<g id=\"edge37\" class=\"edge\">\n<title>133950702140000&#45;&gt;133950702086368</title>\n<path fill=\"none\" stroke=\"black\" d=\"M368.5,-66.79C368.5,-60.07 368.5,-50.4 368.5,-41.34\"/>\n<polygon fill=\"black\" stroke=\"black\" points=\"372,-41.19 368.5,-31.19 365,-41.19 372,-41.19\"/>\n</g>\n<!-- 133950702135296 -->\n<g id=\"node3\" class=\"node\">\n<title>133950702135296</title>\n<polygon fill=\"lightgrey\" stroke=\"black\" points=\"306,-141 205,-141 205,-122 306,-122 306,-141\"/>\n<text text-anchor=\"middle\" x=\"255.5\" y=\"-129\" font-family=\"monospace\" font-size=\"10.00\">AccumulateGrad</text>\n</g>\n<!-- 133950702135296&#45;&gt;133950702140000 -->\n<g id=\"edge1\" class=\"edge\">\n<title>133950702135296&#45;&gt;133950702140000</title>\n<path fill=\"none\" stroke=\"black\" d=\"M273.66,-121.98C291.75,-113.5 319.78,-100.35 340.69,-90.54\"/>\n<polygon fill=\"black\" stroke=\"black\" points=\"342.45,-93.59 350.01,-86.17 339.47,-87.25 342.45,-93.59\"/>\n</g>\n<!-- 133950702084368 -->\n<g id=\"node4\" class=\"node\">\n<title>133950702084368</title>\n<polygon fill=\"lightblue\" stroke=\"black\" points=\"288,-207 223,-207 223,-177 288,-177 288,-207\"/>\n<text text-anchor=\"middle\" x=\"255.5\" y=\"-195\" font-family=\"monospace\" font-size=\"10.00\">fc2.bias</text>\n<text text-anchor=\"middle\" x=\"255.5\" y=\"-184\" font-family=\"monospace\" font-size=\"10.00\"> (10)</text>\n</g>\n<!-- 133950702084368&#45;&gt;133950702135296 -->\n<g id=\"edge2\" class=\"edge\">\n<title>133950702084368&#45;&gt;133950702135296</title>\n<path fill=\"none\" stroke=\"black\" d=\"M255.5,-176.84C255.5,-169.21 255.5,-159.7 255.5,-151.45\"/>\n<polygon fill=\"black\" stroke=\"black\" points=\"259,-151.27 255.5,-141.27 252,-151.27 259,-151.27\"/>\n</g>\n<!-- 133950702135392 -->\n<g id=\"node5\" class=\"node\">\n<title>133950702135392</title>\n<polygon fill=\"lightgrey\" stroke=\"black\" points=\"413,-141 324,-141 324,-122 413,-122 413,-141\"/>\n<text text-anchor=\"middle\" x=\"368.5\" y=\"-129\" font-family=\"monospace\" font-size=\"10.00\">MulBackward0</text>\n</g>\n<!-- 133950702135392&#45;&gt;133950702140000 -->\n<g id=\"edge3\" class=\"edge\">\n<title>133950702135392&#45;&gt;133950702140000</title>\n<path fill=\"none\" stroke=\"black\" d=\"M368.5,-121.75C368.5,-114.8 368.5,-104.85 368.5,-96.13\"/>\n<polygon fill=\"black\" stroke=\"black\" points=\"372,-96.09 368.5,-86.09 365,-96.09 372,-96.09\"/>\n</g>\n<!-- 133950702135440 -->\n<g id=\"node6\" class=\"node\">\n<title>133950702135440</title>\n<polygon fill=\"lightgrey\" stroke=\"black\" points=\"412,-201.5 317,-201.5 317,-182.5 412,-182.5 412,-201.5\"/>\n<text text-anchor=\"middle\" x=\"364.5\" y=\"-189.5\" font-family=\"monospace\" font-size=\"10.00\">ReluBackward0</text>\n</g>\n<!-- 133950702135440&#45;&gt;133950702135392 -->\n<g id=\"edge4\" class=\"edge\">\n<title>133950702135440&#45;&gt;133950702135392</title>\n<path fill=\"none\" stroke=\"black\" d=\"M365.09,-182.37C365.65,-174.25 366.5,-161.81 367.21,-151.39\"/>\n<polygon fill=\"black\" stroke=\"black\" points=\"370.72,-151.38 367.91,-141.17 363.73,-150.91 370.72,-151.38\"/>\n</g>\n<!-- 133950702128240 -->\n<g id=\"node7\" class=\"node\">\n<title>133950702128240</title>\n<polygon fill=\"lightgrey\" stroke=\"black\" points=\"415,-267.5 314,-267.5 314,-248.5 415,-248.5 415,-267.5\"/>\n<text text-anchor=\"middle\" x=\"364.5\" y=\"-255.5\" font-family=\"monospace\" font-size=\"10.00\">AddmmBackward0</text>\n</g>\n<!-- 133950702128240&#45;&gt;133950702135440 -->\n<g id=\"edge5\" class=\"edge\">\n<title>133950702128240&#45;&gt;133950702135440</title>\n<path fill=\"none\" stroke=\"black\" d=\"M364.5,-248.37C364.5,-239.16 364.5,-224.29 364.5,-212.27\"/>\n<polygon fill=\"black\" stroke=\"black\" points=\"368,-211.91 364.5,-201.91 361,-211.91 368,-211.91\"/>\n</g>\n<!-- 133950702127568 -->\n<g id=\"node8\" class=\"node\">\n<title>133950702127568</title>\n<polygon fill=\"lightgrey\" stroke=\"black\" points=\"299,-328 198,-328 198,-309 299,-309 299,-328\"/>\n<text text-anchor=\"middle\" x=\"248.5\" y=\"-316\" font-family=\"monospace\" font-size=\"10.00\">AccumulateGrad</text>\n</g>\n<!-- 133950702127568&#45;&gt;133950702128240 -->\n<g id=\"edge6\" class=\"edge\">\n<title>133950702127568&#45;&gt;133950702128240</title>\n<path fill=\"none\" stroke=\"black\" d=\"M265.62,-308.87C284.72,-299.23 315.87,-283.53 338.1,-272.31\"/>\n<polygon fill=\"black\" stroke=\"black\" points=\"339.96,-275.3 347.31,-267.67 336.81,-269.05 339.96,-275.3\"/>\n</g>\n<!-- 133950741811408 -->\n<g id=\"node9\" class=\"node\">\n<title>133950741811408</title>\n<polygon fill=\"lightblue\" stroke=\"black\" points=\"281,-394 216,-394 216,-364 281,-364 281,-394\"/>\n<text text-anchor=\"middle\" x=\"248.5\" y=\"-382\" font-family=\"monospace\" font-size=\"10.00\">fc1.bias</text>\n<text text-anchor=\"middle\" x=\"248.5\" y=\"-371\" font-family=\"monospace\" font-size=\"10.00\"> (256)</text>\n</g>\n<!-- 133950741811408&#45;&gt;133950702127568 -->\n<g id=\"edge7\" class=\"edge\">\n<title>133950741811408&#45;&gt;133950702127568</title>\n<path fill=\"none\" stroke=\"black\" d=\"M248.5,-363.84C248.5,-356.21 248.5,-346.7 248.5,-338.45\"/>\n<polygon fill=\"black\" stroke=\"black\" points=\"252,-338.27 248.5,-328.27 245,-338.27 252,-338.27\"/>\n</g>\n<!-- 133950702127808 -->\n<g id=\"node10\" class=\"node\">\n<title>133950702127808</title>\n<polygon fill=\"lightgrey\" stroke=\"black\" points=\"412,-328 317,-328 317,-309 412,-309 412,-328\"/>\n<text text-anchor=\"middle\" x=\"364.5\" y=\"-316\" font-family=\"monospace\" font-size=\"10.00\">ViewBackward0</text>\n</g>\n<!-- 133950702127808&#45;&gt;133950702128240 -->\n<g id=\"edge8\" class=\"edge\">\n<title>133950702127808&#45;&gt;133950702128240</title>\n<path fill=\"none\" stroke=\"black\" d=\"M364.5,-308.87C364.5,-300.75 364.5,-288.31 364.5,-277.89\"/>\n<polygon fill=\"black\" stroke=\"black\" points=\"368,-277.67 364.5,-267.67 361,-277.67 368,-277.67\"/>\n</g>\n<!-- 133950702127328 -->\n<g id=\"node11\" class=\"node\">\n<title>133950702127328</title>\n<polygon fill=\"lightgrey\" stroke=\"black\" points=\"406,-388.5 317,-388.5 317,-369.5 406,-369.5 406,-388.5\"/>\n<text text-anchor=\"middle\" x=\"361.5\" y=\"-376.5\" font-family=\"monospace\" font-size=\"10.00\">MulBackward0</text>\n</g>\n<!-- 133950702127328&#45;&gt;133950702127808 -->\n<g id=\"edge9\" class=\"edge\">\n<title>133950702127328&#45;&gt;133950702127808</title>\n<path fill=\"none\" stroke=\"black\" d=\"M361.94,-369.37C362.36,-361.25 363,-348.81 363.53,-338.39\"/>\n<polygon fill=\"black\" stroke=\"black\" points=\"367.04,-338.33 364.06,-328.17 360.05,-337.97 367.04,-338.33\"/>\n</g>\n<!-- 133954528404400 -->\n<g id=\"node12\" class=\"node\">\n<title>133954528404400</title>\n<polygon fill=\"lightgrey\" stroke=\"black\" points=\"409,-454.5 314,-454.5 314,-435.5 409,-435.5 409,-454.5\"/>\n<text text-anchor=\"middle\" x=\"361.5\" y=\"-442.5\" font-family=\"monospace\" font-size=\"10.00\">ReluBackward0</text>\n</g>\n<!-- 133954528404400&#45;&gt;133950702127328 -->\n<g id=\"edge10\" class=\"edge\">\n<title>133954528404400&#45;&gt;133950702127328</title>\n<path fill=\"none\" stroke=\"black\" d=\"M361.5,-435.37C361.5,-426.16 361.5,-411.29 361.5,-399.27\"/>\n<polygon fill=\"black\" stroke=\"black\" points=\"365,-398.91 361.5,-388.91 358,-398.91 365,-398.91\"/>\n</g>\n<!-- 133954528401760 -->\n<g id=\"node13\" class=\"node\">\n<title>133954528401760</title>\n<polygon fill=\"lightgrey\" stroke=\"black\" points=\"457,-515 266,-515 266,-496 457,-496 457,-515\"/>\n<text text-anchor=\"middle\" x=\"361.5\" y=\"-503\" font-family=\"monospace\" font-size=\"10.00\">MaxPool2DWithIndicesBackward0</text>\n</g>\n<!-- 133954528401760&#45;&gt;133954528404400 -->\n<g id=\"edge11\" class=\"edge\">\n<title>133954528401760&#45;&gt;133954528404400</title>\n<path fill=\"none\" stroke=\"black\" d=\"M361.5,-495.87C361.5,-487.75 361.5,-475.31 361.5,-464.89\"/>\n<polygon fill=\"black\" stroke=\"black\" points=\"365,-464.67 361.5,-454.67 358,-464.67 365,-464.67\"/>\n</g>\n<!-- 133954528399120 -->\n<g id=\"node14\" class=\"node\">\n<title>133954528399120</title>\n<polygon fill=\"lightgrey\" stroke=\"black\" points=\"430,-570 293,-570 293,-551 430,-551 430,-570\"/>\n<text text-anchor=\"middle\" x=\"361.5\" y=\"-558\" font-family=\"monospace\" font-size=\"10.00\">ConvolutionBackward0</text>\n</g>\n<!-- 133954528399120&#45;&gt;133954528401760 -->\n<g id=\"edge12\" class=\"edge\">\n<title>133954528399120&#45;&gt;133954528401760</title>\n<path fill=\"none\" stroke=\"black\" d=\"M361.5,-550.75C361.5,-543.8 361.5,-533.85 361.5,-525.13\"/>\n<polygon fill=\"black\" stroke=\"black\" points=\"365,-525.09 361.5,-515.09 358,-525.09 365,-525.09\"/>\n</g>\n<!-- 133954528398352 -->\n<g id=\"node15\" class=\"node\">\n<title>133954528398352</title>\n<polygon fill=\"lightgrey\" stroke=\"black\" points=\"292,-625 203,-625 203,-606 292,-606 292,-625\"/>\n<text text-anchor=\"middle\" x=\"247.5\" y=\"-613\" font-family=\"monospace\" font-size=\"10.00\">MulBackward0</text>\n</g>\n<!-- 133954528398352&#45;&gt;133954528399120 -->\n<g id=\"edge13\" class=\"edge\">\n<title>133954528398352&#45;&gt;133954528399120</title>\n<path fill=\"none\" stroke=\"black\" d=\"M265.82,-605.98C284.16,-597.46 312.61,-584.23 333.73,-574.41\"/>\n<polygon fill=\"black\" stroke=\"black\" points=\"335.26,-577.56 342.85,-570.17 332.31,-571.21 335.26,-577.56\"/>\n</g>\n<!-- 133954528403440 -->\n<g id=\"node16\" class=\"node\">\n<title>133954528403440</title>\n<polygon fill=\"lightgrey\" stroke=\"black\" points=\"292,-685.5 197,-685.5 197,-666.5 292,-666.5 292,-685.5\"/>\n<text text-anchor=\"middle\" x=\"244.5\" y=\"-673.5\" font-family=\"monospace\" font-size=\"10.00\">ReluBackward0</text>\n</g>\n<!-- 133954528403440&#45;&gt;133954528398352 -->\n<g id=\"edge14\" class=\"edge\">\n<title>133954528403440&#45;&gt;133954528398352</title>\n<path fill=\"none\" stroke=\"black\" d=\"M244.94,-666.37C245.36,-658.25 246,-645.81 246.53,-635.39\"/>\n<polygon fill=\"black\" stroke=\"black\" points=\"250.04,-635.33 247.06,-625.17 243.05,-634.97 250.04,-635.33\"/>\n</g>\n<!-- 133950701875456 -->\n<g id=\"node17\" class=\"node\">\n<title>133950701875456</title>\n<polygon fill=\"lightgrey\" stroke=\"black\" points=\"340,-746 149,-746 149,-727 340,-727 340,-746\"/>\n<text text-anchor=\"middle\" x=\"244.5\" y=\"-734\" font-family=\"monospace\" font-size=\"10.00\">MaxPool2DWithIndicesBackward0</text>\n</g>\n<!-- 133950701875456&#45;&gt;133954528403440 -->\n<g id=\"edge15\" class=\"edge\">\n<title>133950701875456&#45;&gt;133954528403440</title>\n<path fill=\"none\" stroke=\"black\" d=\"M244.5,-726.87C244.5,-718.75 244.5,-706.31 244.5,-695.89\"/>\n<polygon fill=\"black\" stroke=\"black\" points=\"248,-695.67 244.5,-685.67 241,-695.67 248,-695.67\"/>\n</g>\n<!-- 133950701876416 -->\n<g id=\"node18\" class=\"node\">\n<title>133950701876416</title>\n<polygon fill=\"lightgrey\" stroke=\"black\" points=\"313,-801 176,-801 176,-782 313,-782 313,-801\"/>\n<text text-anchor=\"middle\" x=\"244.5\" y=\"-789\" font-family=\"monospace\" font-size=\"10.00\">ConvolutionBackward0</text>\n</g>\n<!-- 133950701876416&#45;&gt;133950701875456 -->\n<g id=\"edge16\" class=\"edge\">\n<title>133950701876416&#45;&gt;133950701875456</title>\n<path fill=\"none\" stroke=\"black\" d=\"M244.5,-781.75C244.5,-774.8 244.5,-764.85 244.5,-756.13\"/>\n<polygon fill=\"black\" stroke=\"black\" points=\"248,-756.09 244.5,-746.09 241,-756.09 248,-756.09\"/>\n</g>\n<!-- 133950701876464 -->\n<g id=\"node19\" class=\"node\">\n<title>133950701876464</title>\n<polygon fill=\"lightgrey\" stroke=\"black\" points=\"167,-856 72,-856 72,-837 167,-837 167,-856\"/>\n<text text-anchor=\"middle\" x=\"119.5\" y=\"-844\" font-family=\"monospace\" font-size=\"10.00\">ReluBackward0</text>\n</g>\n<!-- 133950701876464&#45;&gt;133950701876416 -->\n<g id=\"edge17\" class=\"edge\">\n<title>133950701876464&#45;&gt;133950701876416</title>\n<path fill=\"none\" stroke=\"black\" d=\"M139.58,-836.98C159.87,-828.38 191.46,-814.99 214.67,-805.15\"/>\n<polygon fill=\"black\" stroke=\"black\" points=\"216.21,-808.3 224.05,-801.17 213.48,-801.85 216.21,-808.3\"/>\n</g>\n<!-- 133950701875024 -->\n<g id=\"node20\" class=\"node\">\n<title>133950701875024</title>\n<polygon fill=\"lightgrey\" stroke=\"black\" points=\"178,-916.5 41,-916.5 41,-897.5 178,-897.5 178,-916.5\"/>\n<text text-anchor=\"middle\" x=\"109.5\" y=\"-904.5\" font-family=\"monospace\" font-size=\"10.00\">ConvolutionBackward0</text>\n</g>\n<!-- 133950701875024&#45;&gt;133950701876464 -->\n<g id=\"edge18\" class=\"edge\">\n<title>133950701875024&#45;&gt;133950701876464</title>\n<path fill=\"none\" stroke=\"black\" d=\"M110.98,-897.37C112.38,-889.16 114.54,-876.54 116.33,-866.05\"/>\n<polygon fill=\"black\" stroke=\"black\" points=\"119.78,-866.61 118.02,-856.17 112.88,-865.43 119.78,-866.61\"/>\n</g>\n<!-- 133950701874928 -->\n<g id=\"node21\" class=\"node\">\n<title>133950701874928</title>\n<polygon fill=\"lightgrey\" stroke=\"black\" points=\"101,-977 0,-977 0,-958 101,-958 101,-977\"/>\n<text text-anchor=\"middle\" x=\"50.5\" y=\"-965\" font-family=\"monospace\" font-size=\"10.00\">AccumulateGrad</text>\n</g>\n<!-- 133950701874928&#45;&gt;133950701875024 -->\n<g id=\"edge19\" class=\"edge\">\n<title>133950701874928&#45;&gt;133950701875024</title>\n<path fill=\"none\" stroke=\"black\" d=\"M59.21,-957.87C68.18,-948.97 82.38,-934.89 93.41,-923.95\"/>\n<polygon fill=\"black\" stroke=\"black\" points=\"96.12,-926.19 100.76,-916.67 91.19,-921.22 96.12,-926.19\"/>\n</g>\n<!-- 133950736157568 -->\n<g id=\"node22\" class=\"node\">\n<title>133950736157568</title>\n<polygon fill=\"lightblue\" stroke=\"black\" points=\"101,-1043 0,-1043 0,-1013 101,-1013 101,-1043\"/>\n<text text-anchor=\"middle\" x=\"50.5\" y=\"-1031\" font-family=\"monospace\" font-size=\"10.00\">conv1.weight</text>\n<text text-anchor=\"middle\" x=\"50.5\" y=\"-1020\" font-family=\"monospace\" font-size=\"10.00\"> (32, 1, 5, 5)</text>\n</g>\n<!-- 133950736157568&#45;&gt;133950701874928 -->\n<g id=\"edge20\" class=\"edge\">\n<title>133950736157568&#45;&gt;133950701874928</title>\n<path fill=\"none\" stroke=\"black\" d=\"M50.5,-1012.84C50.5,-1005.21 50.5,-995.7 50.5,-987.45\"/>\n<polygon fill=\"black\" stroke=\"black\" points=\"54,-987.27 50.5,-977.27 47,-987.27 54,-987.27\"/>\n</g>\n<!-- 133950701874976 -->\n<g id=\"node23\" class=\"node\">\n<title>133950701874976</title>\n<polygon fill=\"lightgrey\" stroke=\"black\" points=\"220,-977 119,-977 119,-958 220,-958 220,-977\"/>\n<text text-anchor=\"middle\" x=\"169.5\" y=\"-965\" font-family=\"monospace\" font-size=\"10.00\">AccumulateGrad</text>\n</g>\n<!-- 133950701874976&#45;&gt;133950701875024 -->\n<g id=\"edge21\" class=\"edge\">\n<title>133950701874976&#45;&gt;133950701875024</title>\n<path fill=\"none\" stroke=\"black\" d=\"M160.65,-957.87C151.52,-948.97 137.08,-934.89 125.86,-923.95\"/>\n<polygon fill=\"black\" stroke=\"black\" points=\"127.99,-921.14 118.39,-916.67 123.11,-926.15 127.99,-921.14\"/>\n</g>\n<!-- 133950735397120 -->\n<g id=\"node24\" class=\"node\">\n<title>133950735397120</title>\n<polygon fill=\"lightblue\" stroke=\"black\" points=\"208,-1043 131,-1043 131,-1013 208,-1013 208,-1043\"/>\n<text text-anchor=\"middle\" x=\"169.5\" y=\"-1031\" font-family=\"monospace\" font-size=\"10.00\">conv1.bias</text>\n<text text-anchor=\"middle\" x=\"169.5\" y=\"-1020\" font-family=\"monospace\" font-size=\"10.00\"> (32)</text>\n</g>\n<!-- 133950735397120&#45;&gt;133950701874976 -->\n<g id=\"edge22\" class=\"edge\">\n<title>133950735397120&#45;&gt;133950701874976</title>\n<path fill=\"none\" stroke=\"black\" d=\"M169.5,-1012.84C169.5,-1005.21 169.5,-995.7 169.5,-987.45\"/>\n<polygon fill=\"black\" stroke=\"black\" points=\"173,-987.27 169.5,-977.27 166,-987.27 173,-987.27\"/>\n</g>\n<!-- 133950701876512 -->\n<g id=\"node25\" class=\"node\">\n<title>133950701876512</title>\n<polygon fill=\"lightgrey\" stroke=\"black\" points=\"295,-856 194,-856 194,-837 295,-837 295,-856\"/>\n<text text-anchor=\"middle\" x=\"244.5\" y=\"-844\" font-family=\"monospace\" font-size=\"10.00\">AccumulateGrad</text>\n</g>\n<!-- 133950701876512&#45;&gt;133950701876416 -->\n<g id=\"edge23\" class=\"edge\">\n<title>133950701876512&#45;&gt;133950701876416</title>\n<path fill=\"none\" stroke=\"black\" d=\"M244.5,-836.75C244.5,-829.8 244.5,-819.85 244.5,-811.13\"/>\n<polygon fill=\"black\" stroke=\"black\" points=\"248,-811.09 244.5,-801.09 241,-811.09 248,-811.09\"/>\n</g>\n<!-- 133950702083968 -->\n<g id=\"node26\" class=\"node\">\n<title>133950702083968</title>\n<polygon fill=\"lightblue\" stroke=\"black\" points=\"303,-922 196,-922 196,-892 303,-892 303,-922\"/>\n<text text-anchor=\"middle\" x=\"249.5\" y=\"-910\" font-family=\"monospace\" font-size=\"10.00\">conv2.weight</text>\n<text text-anchor=\"middle\" x=\"249.5\" y=\"-899\" font-family=\"monospace\" font-size=\"10.00\"> (32, 32, 5, 5)</text>\n</g>\n<!-- 133950702083968&#45;&gt;133950701876512 -->\n<g id=\"edge24\" class=\"edge\">\n<title>133950702083968&#45;&gt;133950701876512</title>\n<path fill=\"none\" stroke=\"black\" d=\"M248.29,-891.84C247.64,-884.21 246.83,-874.7 246.12,-866.45\"/>\n<polygon fill=\"black\" stroke=\"black\" points=\"249.59,-865.93 245.25,-856.27 242.61,-866.53 249.59,-865.93\"/>\n</g>\n<!-- 133950701871904 -->\n<g id=\"node27\" class=\"node\">\n<title>133950701871904</title>\n<polygon fill=\"lightgrey\" stroke=\"black\" points=\"414,-856 313,-856 313,-837 414,-837 414,-856\"/>\n<text text-anchor=\"middle\" x=\"363.5\" y=\"-844\" font-family=\"monospace\" font-size=\"10.00\">AccumulateGrad</text>\n</g>\n<!-- 133950701871904&#45;&gt;133950701876416 -->\n<g id=\"edge25\" class=\"edge\">\n<title>133950701871904&#45;&gt;133950701876416</title>\n<path fill=\"none\" stroke=\"black\" d=\"M344.38,-836.98C325.15,-828.42 295.27,-815.11 273.19,-805.28\"/>\n<polygon fill=\"black\" stroke=\"black\" points=\"274.53,-802.04 263.97,-801.17 271.68,-808.44 274.53,-802.04\"/>\n</g>\n<!-- 133950702084048 -->\n<g id=\"node28\" class=\"node\">\n<title>133950702084048</title>\n<polygon fill=\"lightblue\" stroke=\"black\" points=\"402,-922 325,-922 325,-892 402,-892 402,-922\"/>\n<text text-anchor=\"middle\" x=\"363.5\" y=\"-910\" font-family=\"monospace\" font-size=\"10.00\">conv2.bias</text>\n<text text-anchor=\"middle\" x=\"363.5\" y=\"-899\" font-family=\"monospace\" font-size=\"10.00\"> (32)</text>\n</g>\n<!-- 133950702084048&#45;&gt;133950701871904 -->\n<g id=\"edge26\" class=\"edge\">\n<title>133950702084048&#45;&gt;133950701871904</title>\n<path fill=\"none\" stroke=\"black\" d=\"M363.5,-891.84C363.5,-884.21 363.5,-874.7 363.5,-866.45\"/>\n<polygon fill=\"black\" stroke=\"black\" points=\"367,-866.27 363.5,-856.27 360,-866.27 367,-866.27\"/>\n</g>\n<!-- 133954528404592 -->\n<g id=\"node29\" class=\"node\">\n<title>133954528404592</title>\n<polygon fill=\"lightgrey\" stroke=\"black\" points=\"412,-625 311,-625 311,-606 412,-606 412,-625\"/>\n<text text-anchor=\"middle\" x=\"361.5\" y=\"-613\" font-family=\"monospace\" font-size=\"10.00\">AccumulateGrad</text>\n</g>\n<!-- 133954528404592&#45;&gt;133954528399120 -->\n<g id=\"edge27\" class=\"edge\">\n<title>133954528404592&#45;&gt;133954528399120</title>\n<path fill=\"none\" stroke=\"black\" d=\"M361.5,-605.75C361.5,-598.8 361.5,-588.85 361.5,-580.13\"/>\n<polygon fill=\"black\" stroke=\"black\" points=\"365,-580.09 361.5,-570.09 358,-580.09 365,-580.09\"/>\n</g>\n<!-- 133950702084208 -->\n<g id=\"node30\" class=\"node\">\n<title>133950702084208</title>\n<polygon fill=\"lightblue\" stroke=\"black\" points=\"417,-691 310,-691 310,-661 417,-661 417,-691\"/>\n<text text-anchor=\"middle\" x=\"363.5\" y=\"-679\" font-family=\"monospace\" font-size=\"10.00\">conv3.weight</text>\n<text text-anchor=\"middle\" x=\"363.5\" y=\"-668\" font-family=\"monospace\" font-size=\"10.00\"> (64, 32, 5, 5)</text>\n</g>\n<!-- 133950702084208&#45;&gt;133954528404592 -->\n<g id=\"edge28\" class=\"edge\">\n<title>133950702084208&#45;&gt;133954528404592</title>\n<path fill=\"none\" stroke=\"black\" d=\"M363.02,-660.84C362.76,-653.21 362.43,-643.7 362.15,-635.45\"/>\n<polygon fill=\"black\" stroke=\"black\" points=\"365.64,-635.14 361.8,-625.27 358.64,-635.38 365.64,-635.14\"/>\n</g>\n<!-- 133954528400512 -->\n<g id=\"node31\" class=\"node\">\n<title>133954528400512</title>\n<polygon fill=\"lightgrey\" stroke=\"black\" points=\"531,-625 430,-625 430,-606 531,-606 531,-625\"/>\n<text text-anchor=\"middle\" x=\"480.5\" y=\"-613\" font-family=\"monospace\" font-size=\"10.00\">AccumulateGrad</text>\n</g>\n<!-- 133954528400512&#45;&gt;133954528399120 -->\n<g id=\"edge29\" class=\"edge\">\n<title>133954528400512&#45;&gt;133954528399120</title>\n<path fill=\"none\" stroke=\"black\" d=\"M461.38,-605.98C442.15,-597.42 412.27,-584.11 390.19,-574.28\"/>\n<polygon fill=\"black\" stroke=\"black\" points=\"391.53,-571.04 380.97,-570.17 388.68,-577.44 391.53,-571.04\"/>\n</g>\n<!-- 133950702084288 -->\n<g id=\"node32\" class=\"node\">\n<title>133950702084288</title>\n<polygon fill=\"lightblue\" stroke=\"black\" points=\"519,-691 442,-691 442,-661 519,-661 519,-691\"/>\n<text text-anchor=\"middle\" x=\"480.5\" y=\"-679\" font-family=\"monospace\" font-size=\"10.00\">conv3.bias</text>\n<text text-anchor=\"middle\" x=\"480.5\" y=\"-668\" font-family=\"monospace\" font-size=\"10.00\"> (64)</text>\n</g>\n<!-- 133950702084288&#45;&gt;133954528400512 -->\n<g id=\"edge30\" class=\"edge\">\n<title>133950702084288&#45;&gt;133954528400512</title>\n<path fill=\"none\" stroke=\"black\" d=\"M480.5,-660.84C480.5,-653.21 480.5,-643.7 480.5,-635.45\"/>\n<polygon fill=\"black\" stroke=\"black\" points=\"484,-635.27 480.5,-625.27 477,-635.27 484,-635.27\"/>\n</g>\n<!-- 133950702135488 -->\n<g id=\"node33\" class=\"node\">\n<title>133950702135488</title>\n<polygon fill=\"lightgrey\" stroke=\"black\" points=\"509,-328 432,-328 432,-309 509,-309 509,-328\"/>\n<text text-anchor=\"middle\" x=\"470.5\" y=\"-316\" font-family=\"monospace\" font-size=\"10.00\">TBackward0</text>\n</g>\n<!-- 133950702135488&#45;&gt;133950702128240 -->\n<g id=\"edge31\" class=\"edge\">\n<title>133950702135488&#45;&gt;133950702128240</title>\n<path fill=\"none\" stroke=\"black\" d=\"M454.86,-308.87C437.56,-299.32 409.45,-283.81 389.17,-272.62\"/>\n<polygon fill=\"black\" stroke=\"black\" points=\"390.65,-269.43 380.2,-267.67 387.27,-275.56 390.65,-269.43\"/>\n</g>\n<!-- 133954528398832 -->\n<g id=\"node34\" class=\"node\">\n<title>133954528398832</title>\n<polygon fill=\"lightgrey\" stroke=\"black\" points=\"525,-388.5 424,-388.5 424,-369.5 525,-369.5 525,-388.5\"/>\n<text text-anchor=\"middle\" x=\"474.5\" y=\"-376.5\" font-family=\"monospace\" font-size=\"10.00\">AccumulateGrad</text>\n</g>\n<!-- 133954528398832&#45;&gt;133950702135488 -->\n<g id=\"edge32\" class=\"edge\">\n<title>133954528398832&#45;&gt;133950702135488</title>\n<path fill=\"none\" stroke=\"black\" d=\"M473.91,-369.37C473.35,-361.25 472.5,-348.81 471.79,-338.39\"/>\n<polygon fill=\"black\" stroke=\"black\" points=\"475.27,-337.91 471.09,-328.17 468.28,-338.38 475.27,-337.91\"/>\n</g>\n<!-- 133950731490128 -->\n<g id=\"node35\" class=\"node\">\n<title>133950731490128</title>\n<polygon fill=\"lightblue\" stroke=\"black\" points=\"516,-460 433,-460 433,-430 516,-430 516,-460\"/>\n<text text-anchor=\"middle\" x=\"474.5\" y=\"-448\" font-family=\"monospace\" font-size=\"10.00\">fc1.weight</text>\n<text text-anchor=\"middle\" x=\"474.5\" y=\"-437\" font-family=\"monospace\" font-size=\"10.00\"> (256, 576)</text>\n</g>\n<!-- 133950731490128&#45;&gt;133954528398832 -->\n<g id=\"edge33\" class=\"edge\">\n<title>133950731490128&#45;&gt;133954528398832</title>\n<path fill=\"none\" stroke=\"black\" d=\"M474.5,-429.8C474.5,-420.7 474.5,-408.79 474.5,-398.9\"/>\n<polygon fill=\"black\" stroke=\"black\" points=\"478,-398.84 474.5,-388.84 471,-398.84 478,-398.84\"/>\n</g>\n<!-- 133950702135344 -->\n<g id=\"node36\" class=\"node\">\n<title>133950702135344</title>\n<polygon fill=\"lightgrey\" stroke=\"black\" points=\"512,-141 435,-141 435,-122 512,-122 512,-141\"/>\n<text text-anchor=\"middle\" x=\"473.5\" y=\"-129\" font-family=\"monospace\" font-size=\"10.00\">TBackward0</text>\n</g>\n<!-- 133950702135344&#45;&gt;133950702140000 -->\n<g id=\"edge34\" class=\"edge\">\n<title>133950702135344&#45;&gt;133950702140000</title>\n<path fill=\"none\" stroke=\"black\" d=\"M456.63,-121.98C439.89,-113.54 414,-100.47 394.61,-90.68\"/>\n<polygon fill=\"black\" stroke=\"black\" points=\"396.18,-87.55 385.68,-86.17 393.03,-93.8 396.18,-87.55\"/>\n</g>\n<!-- 133950702127424 -->\n<g id=\"node37\" class=\"node\">\n<title>133950702127424</title>\n<polygon fill=\"lightgrey\" stroke=\"black\" points=\"531,-201.5 430,-201.5 430,-182.5 531,-182.5 531,-201.5\"/>\n<text text-anchor=\"middle\" x=\"480.5\" y=\"-189.5\" font-family=\"monospace\" font-size=\"10.00\">AccumulateGrad</text>\n</g>\n<!-- 133950702127424&#45;&gt;133950702135344 -->\n<g id=\"edge35\" class=\"edge\">\n<title>133950702127424&#45;&gt;133950702135344</title>\n<path fill=\"none\" stroke=\"black\" d=\"M479.47,-182.37C478.5,-174.25 477.01,-161.81 475.76,-151.39\"/>\n<polygon fill=\"black\" stroke=\"black\" points=\"479.2,-150.68 474.54,-141.17 472.25,-151.51 479.2,-150.68\"/>\n</g>\n<!-- 133950702084128 -->\n<g id=\"node38\" class=\"node\">\n<title>133950702084128</title>\n<polygon fill=\"lightblue\" stroke=\"black\" points=\"519,-273 442,-273 442,-243 519,-243 519,-273\"/>\n<text text-anchor=\"middle\" x=\"480.5\" y=\"-261\" font-family=\"monospace\" font-size=\"10.00\">fc2.weight</text>\n<text text-anchor=\"middle\" x=\"480.5\" y=\"-250\" font-family=\"monospace\" font-size=\"10.00\"> (10, 256)</text>\n</g>\n<!-- 133950702084128&#45;&gt;133950702127424 -->\n<g id=\"edge36\" class=\"edge\">\n<title>133950702084128&#45;&gt;133950702127424</title>\n<path fill=\"none\" stroke=\"black\" d=\"M480.5,-242.8C480.5,-233.7 480.5,-221.79 480.5,-211.9\"/>\n<polygon fill=\"black\" stroke=\"black\" points=\"484,-211.84 480.5,-201.84 477,-211.84 484,-211.84\"/>\n</g>\n</g>\n</svg>\n",
            "text/plain": [
              "<graphviz.graphs.Digraph at 0x79d3d404a8f0>"
            ]
          },
          "metadata": {},
          "execution_count": 4
        }
      ]
    },
    {
      "cell_type": "markdown",
      "metadata": {
        "id": "I6QNE7SWMfuW"
      },
      "source": [
        "Now we create some utility functions to help with the training and evaluation process. Most of this is boilerplate code that can be reused with simple changes.\n",
        "\n",
        "For training, we iterate over the datalaoder to get batches, and for each batch we do the following:\n",
        "\n",
        "- move each batch onto the specified device\n",
        "- perform a forward pass through the model to get the outputs\n",
        "- compute the loss based on the outputs and targets\n",
        "- compute the gradients via backpropagation\n",
        "- update the weights via the optimizer\n",
        "\n",
        "Certain layers, e.g. dropout, operate differently in training versus inference modes. To account for the same, we do:\n",
        "\n",
        "- model.train() to set all such layers to training mode\n",
        "- model.eval() to set all such layers to inference mode"
      ]
    },
    {
      "cell_type": "code",
      "metadata": {
        "_uuid": "e471e447a9618edc7310bb15941054c30ea235a4",
        "id": "g7h3qTnZMfuX"
      },
      "source": [
        "def train(model, device, data_loader, optimizer, criterion, epoch):\n",
        "    model.train()\n",
        "    loss_train = 0\n",
        "    num_correct = 0\n",
        "    for batch_idx, (data, target) in enumerate(data_loader):\n",
        "        data, target = data.to(device), target.to(device)\n",
        "        optimizer.zero_grad()\n",
        "        output = model(data)\n",
        "        loss = criterion(output, target)\n",
        "        loss.backward()\n",
        "        optimizer.step()\n",
        "        loss_train += loss.item()\n",
        "        prediction = output.argmax(dim=1)\n",
        "        num_correct += prediction.eq(target).sum().item()\n",
        "        if batch_idx % 50 == 0:\n",
        "            print('Train Epoch: {} [{}/{} ({:.0f}%)]\\tLoss: {:.4f}\\tAccuracy: {:.0f}%'.format(\n",
        "                epoch, batch_idx * len(data), len(data_loader.dataset),\n",
        "                100. * batch_idx / len(data_loader), loss_train / (batch_idx + 1),\n",
        "                100. * num_correct / (len(data) * (batch_idx + 1))))\n",
        "    loss_train /= len(data_loader)\n",
        "    accuracy = num_correct / len(data_loader.dataset)\n",
        "    return loss_train, accuracy\n",
        "\n",
        "\n",
        "def test(model, device, data_loader, criterion):\n",
        "    model.eval()\n",
        "    loss_test = 0\n",
        "    num_correct = 0\n",
        "    with torch.no_grad():\n",
        "        for data, target in data_loader:\n",
        "            data, target = data.to(device), target.to(device)\n",
        "            output = model(data)\n",
        "            loss = criterion(output, target)\n",
        "            loss_test += loss.item()  # sum up batch loss\n",
        "            prediction = output.argmax(dim=1)\n",
        "            num_correct += prediction.eq(target).sum().item()\n",
        "    loss_test /= len(data_loader)\n",
        "    accuracy = num_correct / len(data_loader.dataset)\n",
        "    return loss_test, accuracy"
      ],
      "execution_count": 5,
      "outputs": []
    },
    {
      "cell_type": "markdown",
      "metadata": {
        "id": "80ZtbPtgMfuY"
      },
      "source": [
        "Now we put it all together:\n",
        "\n",
        "- Create the model\n",
        "- Set up the loss function (cross entropy)\n",
        "- Add an optimizer (in this case, Adam)\n",
        "- [Optional] Have a learning rate scheduler"
      ]
    },
    {
      "cell_type": "code",
      "metadata": {
        "_uuid": "797cbe3cff05d8bdb42f3273a06839b18daf5266",
        "colab": {
          "base_uri": "https://localhost:8080/"
        },
        "id": "5E5jQgkTMfuY",
        "outputId": "857131d3-01a0-4847-eb7e-f3543eff5be5"
      },
      "source": [
        "device = torch.device('cpu' if not torch.cuda.is_available() else 'cuda')\n",
        "model = CNN().to(device)\n",
        "criterion = nn.CrossEntropyLoss().to(device)\n",
        "optimizer = optim.Adam(model.parameters(), lr=0.001) #, betas=(0.9,0.999))\n",
        "\n",
        "#5 epochs take around 15-20 minutes.\n",
        "for epoch in range(1, 5):\n",
        "    loss_train, acc_train = train(model, device, dataloader_train, optimizer, criterion, epoch)\n",
        "    print('Epoch {} Train: Loss: {:.4f}, Accuracy: {:.3f}%\\n'.format(\n",
        "        epoch, loss_train, 100. * acc_train))\n",
        "    loss_test, acc_test = test(model, device, dataloader_test, criterion)\n",
        "    print('Epoch {} Test : Loss: {:.4f}, Accuracy: {:.3f}%\\n'.format(\n",
        "        epoch, loss_test, 100. * acc_test))"
      ],
      "execution_count": 6,
      "outputs": [
        {
          "output_type": "stream",
          "name": "stdout",
          "text": [
            "Train Epoch: 1 [0/60000 (0%)]\tLoss: 2.3032\tAccuracy: 11%\n",
            "Train Epoch: 1 [6400/60000 (11%)]\tLoss: 1.3853\tAccuracy: 48%\n",
            "Train Epoch: 1 [12800/60000 (21%)]\tLoss: 1.0808\tAccuracy: 60%\n",
            "Train Epoch: 1 [19200/60000 (32%)]\tLoss: 0.9585\tAccuracy: 64%\n",
            "Train Epoch: 1 [25600/60000 (43%)]\tLoss: 0.8838\tAccuracy: 67%\n",
            "Train Epoch: 1 [32000/60000 (53%)]\tLoss: 0.8285\tAccuracy: 69%\n",
            "Train Epoch: 1 [38400/60000 (64%)]\tLoss: 0.7911\tAccuracy: 70%\n",
            "Train Epoch: 1 [44800/60000 (75%)]\tLoss: 0.7594\tAccuracy: 71%\n",
            "Train Epoch: 1 [51200/60000 (85%)]\tLoss: 0.7349\tAccuracy: 72%\n",
            "Train Epoch: 1 [57600/60000 (96%)]\tLoss: 0.7124\tAccuracy: 73%\n",
            "Epoch 1 Train: Loss: 0.7045, Accuracy: 73.492%\n",
            "\n",
            "Epoch 1 Test : Loss: 0.4694, Accuracy: 82.450%\n",
            "\n",
            "Train Epoch: 2 [0/60000 (0%)]\tLoss: 0.4103\tAccuracy: 86%\n",
            "Train Epoch: 2 [6400/60000 (11%)]\tLoss: 0.5153\tAccuracy: 81%\n",
            "Train Epoch: 2 [12800/60000 (21%)]\tLoss: 0.5100\tAccuracy: 81%\n",
            "Train Epoch: 2 [19200/60000 (32%)]\tLoss: 0.5050\tAccuracy: 81%\n",
            "Train Epoch: 2 [25600/60000 (43%)]\tLoss: 0.4990\tAccuracy: 81%\n",
            "Train Epoch: 2 [32000/60000 (53%)]\tLoss: 0.4954\tAccuracy: 82%\n",
            "Train Epoch: 2 [38400/60000 (64%)]\tLoss: 0.4922\tAccuracy: 82%\n",
            "Train Epoch: 2 [44800/60000 (75%)]\tLoss: 0.4878\tAccuracy: 82%\n",
            "Train Epoch: 2 [51200/60000 (85%)]\tLoss: 0.4819\tAccuracy: 82%\n",
            "Train Epoch: 2 [57600/60000 (96%)]\tLoss: 0.4777\tAccuracy: 82%\n",
            "Epoch 2 Train: Loss: 0.4759, Accuracy: 82.425%\n",
            "\n",
            "Epoch 2 Test : Loss: 0.3818, Accuracy: 86.290%\n",
            "\n",
            "Train Epoch: 3 [0/60000 (0%)]\tLoss: 0.4211\tAccuracy: 84%\n",
            "Train Epoch: 3 [6400/60000 (11%)]\tLoss: 0.4381\tAccuracy: 83%\n",
            "Train Epoch: 3 [12800/60000 (21%)]\tLoss: 0.4278\tAccuracy: 84%\n",
            "Train Epoch: 3 [19200/60000 (32%)]\tLoss: 0.4257\tAccuracy: 84%\n",
            "Train Epoch: 3 [25600/60000 (43%)]\tLoss: 0.4241\tAccuracy: 84%\n",
            "Train Epoch: 3 [32000/60000 (53%)]\tLoss: 0.4258\tAccuracy: 84%\n",
            "Train Epoch: 3 [38400/60000 (64%)]\tLoss: 0.4227\tAccuracy: 84%\n",
            "Train Epoch: 3 [44800/60000 (75%)]\tLoss: 0.4226\tAccuracy: 84%\n",
            "Train Epoch: 3 [51200/60000 (85%)]\tLoss: 0.4219\tAccuracy: 85%\n",
            "Train Epoch: 3 [57600/60000 (96%)]\tLoss: 0.4216\tAccuracy: 84%\n",
            "Epoch 3 Train: Loss: 0.4202, Accuracy: 84.525%\n",
            "\n",
            "Epoch 3 Test : Loss: 0.3458, Accuracy: 87.620%\n",
            "\n",
            "Train Epoch: 4 [0/60000 (0%)]\tLoss: 0.4370\tAccuracy: 85%\n",
            "Train Epoch: 4 [6400/60000 (11%)]\tLoss: 0.3917\tAccuracy: 85%\n",
            "Train Epoch: 4 [12800/60000 (21%)]\tLoss: 0.3854\tAccuracy: 86%\n",
            "Train Epoch: 4 [19200/60000 (32%)]\tLoss: 0.3886\tAccuracy: 86%\n",
            "Train Epoch: 4 [25600/60000 (43%)]\tLoss: 0.3893\tAccuracy: 86%\n",
            "Train Epoch: 4 [32000/60000 (53%)]\tLoss: 0.3883\tAccuracy: 86%\n",
            "Train Epoch: 4 [38400/60000 (64%)]\tLoss: 0.3857\tAccuracy: 86%\n",
            "Train Epoch: 4 [44800/60000 (75%)]\tLoss: 0.3857\tAccuracy: 86%\n",
            "Train Epoch: 4 [51200/60000 (85%)]\tLoss: 0.3853\tAccuracy: 86%\n",
            "Train Epoch: 4 [57600/60000 (96%)]\tLoss: 0.3855\tAccuracy: 86%\n",
            "Epoch 4 Train: Loss: 0.3854, Accuracy: 85.910%\n",
            "\n",
            "Epoch 4 Test : Loss: 0.3207, Accuracy: 88.600%\n",
            "\n"
          ]
        }
      ]
    }
  ]
}