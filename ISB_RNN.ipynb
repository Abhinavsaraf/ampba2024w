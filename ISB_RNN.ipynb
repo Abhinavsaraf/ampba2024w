{
  "cells": [
    {
      "cell_type": "markdown",
      "metadata": {
        "id": "4nMK7q4aaeix"
      },
      "source": [
        "### Practical Session on Recurrent Neural Networks"
      ]
    },
    {
      "cell_type": "markdown",
      "metadata": {
        "id": "I0SA9BI4aei2"
      },
      "source": [
        "#### This session demonstrates the application of RNNs using sentiment classification on TripAdvisor reviews. Long Short Term Memory (LSTM) network is used to model sequential text data found in reviews and to develop a Binary Classification model which learns to predict review sentiment as positive or negative."
      ]
    },
    {
      "cell_type": "code",
      "execution_count": 1,
      "metadata": {
        "id": "MxgS3OU0aei2",
        "scrolled": true
      },
      "outputs": [],
      "source": [
        "from IPython import get_ipython\n",
        "import warnings\n",
        "warnings.filterwarnings(\"ignore\")\n",
        "ipython = get_ipython()\n",
        "ipython.magic(\"sx wget https://www.dropbox.com/s/80yl6pxjx7usk4p/ISB_PyTorch_Tutorial.zip\")\n",
        "!unzip -q ISB_PyTorch_Tutorial.zip\n",
        "!mv ISB_PyTorch_Tutorial/* ."
      ]
    },
    {
      "cell_type": "code",
      "execution_count": 2,
      "metadata": {
        "id": "BnYh1wXQrKud",
        "colab": {
          "base_uri": "https://localhost:8080/"
        },
        "outputId": "50726e05-0f45-4f94-cfd5-3529281ad689"
      },
      "outputs": [
        {
          "output_type": "stream",
          "name": "stdout",
          "text": [
            "2LayeredNetwork.png  ISB_PyTorch_Tutorial      sample_data\n",
            "ComputeGraph1.png    ISB_PyTorch_Tutorial.zip  TripAdvisor_Hotel_Restaurant_Review_Samples.txt\n",
            "ComputeGraph2.png    LinkNet34.png\t       variable.png\n",
            "data\t\t     mnist.jpg\n"
          ]
        }
      ],
      "source": [
        "!ls"
      ]
    },
    {
      "cell_type": "code",
      "execution_count": 3,
      "metadata": {
        "id": "PuMiKZV9aia9"
      },
      "outputs": [],
      "source": [
        "import torch\n",
        "import random\n",
        "import numpy as np\n",
        "\n",
        "import torch.nn as nn\n",
        "import torch.nn.functional as F\n",
        "import torch.optim as optim\n",
        "\n",
        "import os\n",
        "import re\n",
        "import warnings\n",
        "\n",
        "warnings.filterwarnings(\"ignore\")\n",
        "\n",
        "import pandas as pd\n",
        "\n",
        "from gensim.models import KeyedVectors\n",
        "#word2vec\n",
        "#glove\n",
        "#fastText\n",
        "\n",
        "from sklearn.model_selection import StratifiedKFold\n",
        "from sklearn.metrics import roc_auc_score, roc_curve, auc, confusion_matrix\n",
        "\n",
        "%matplotlib inline\n",
        "from matplotlib import pyplot as plt\n",
        "import seaborn as sns"
      ]
    },
    {
      "cell_type": "code",
      "execution_count": 4,
      "metadata": {
        "id": "tP9tHqBIaei4"
      },
      "outputs": [],
      "source": [
        "\"\"\"Params for training & evaluation\n",
        "dataFileName: TAB separated file having reviews and ratings\n",
        "embeddingDim: Size of Word embeddings. We'll use pretrained FastText Word Embeddings - https://github.com/facebookresearch/MUSE\n",
        "\"\"\"\n",
        "dataFileName = \"TripAdvisor_Hotel_Restaurant_Review_Samples.txt\"\n",
        "embeddingDim = 300"
      ]
    },
    {
      "cell_type": "markdown",
      "metadata": {
        "id": "qfrpeo6Aaei5"
      },
      "source": [
        "#### Exploratory Data Analysis"
      ]
    },
    {
      "cell_type": "code",
      "execution_count": 5,
      "metadata": {
        "id": "OVq8npezaei5",
        "colab": {
          "base_uri": "https://localhost:8080/",
          "height": 380
        },
        "outputId": "e8bae605-7b1c-4a9c-bb2f-8113deb45718"
      },
      "outputs": [
        {
          "output_type": "stream",
          "name": "stdout",
          "text": [
            "No. of reviews: 100000\n"
          ]
        },
        {
          "output_type": "execute_result",
          "data": {
            "text/plain": [
              "   Rating                                             Review\n",
              "0    10.0  A dream cottage in a dream village. A very per...\n",
              "1    10.0  Always stay here when in Brighton and wouldn't...\n",
              "2    10.0  A warm welcome awaits at this secluded B+B. Br...\n",
              "3    10.0  Ann and David are perfect hosts and a stay in ...\n",
              "4    10.0  A very comfortable B&B located a short walk ou...\n",
              "5    10.0  Comfortable, cosy, clean accommodation. Warm w...\n",
              "6     8.0  I stayed here as part of a large group of girl...\n",
              "7    10.0  I have just returned from a Stag Weekend with ...\n",
              "8    10.0  4th time we have stayed here. Ther were 9 of u...\n",
              "9    10.0  12 of us just stayed here on my hen weekend 21..."
            ],
            "text/html": [
              "\n",
              "  <div id=\"df-8488df42-2e8f-4d46-b93c-c789989a2498\" class=\"colab-df-container\">\n",
              "    <div>\n",
              "<style scoped>\n",
              "    .dataframe tbody tr th:only-of-type {\n",
              "        vertical-align: middle;\n",
              "    }\n",
              "\n",
              "    .dataframe tbody tr th {\n",
              "        vertical-align: top;\n",
              "    }\n",
              "\n",
              "    .dataframe thead th {\n",
              "        text-align: right;\n",
              "    }\n",
              "</style>\n",
              "<table border=\"1\" class=\"dataframe\">\n",
              "  <thead>\n",
              "    <tr style=\"text-align: right;\">\n",
              "      <th></th>\n",
              "      <th>Rating</th>\n",
              "      <th>Review</th>\n",
              "    </tr>\n",
              "  </thead>\n",
              "  <tbody>\n",
              "    <tr>\n",
              "      <th>0</th>\n",
              "      <td>10.0</td>\n",
              "      <td>A dream cottage in a dream village. A very per...</td>\n",
              "    </tr>\n",
              "    <tr>\n",
              "      <th>1</th>\n",
              "      <td>10.0</td>\n",
              "      <td>Always stay here when in Brighton and wouldn't...</td>\n",
              "    </tr>\n",
              "    <tr>\n",
              "      <th>2</th>\n",
              "      <td>10.0</td>\n",
              "      <td>A warm welcome awaits at this secluded B+B. Br...</td>\n",
              "    </tr>\n",
              "    <tr>\n",
              "      <th>3</th>\n",
              "      <td>10.0</td>\n",
              "      <td>Ann and David are perfect hosts and a stay in ...</td>\n",
              "    </tr>\n",
              "    <tr>\n",
              "      <th>4</th>\n",
              "      <td>10.0</td>\n",
              "      <td>A very comfortable B&amp;B located a short walk ou...</td>\n",
              "    </tr>\n",
              "    <tr>\n",
              "      <th>5</th>\n",
              "      <td>10.0</td>\n",
              "      <td>Comfortable, cosy, clean accommodation. Warm w...</td>\n",
              "    </tr>\n",
              "    <tr>\n",
              "      <th>6</th>\n",
              "      <td>8.0</td>\n",
              "      <td>I stayed here as part of a large group of girl...</td>\n",
              "    </tr>\n",
              "    <tr>\n",
              "      <th>7</th>\n",
              "      <td>10.0</td>\n",
              "      <td>I have just returned from a Stag Weekend with ...</td>\n",
              "    </tr>\n",
              "    <tr>\n",
              "      <th>8</th>\n",
              "      <td>10.0</td>\n",
              "      <td>4th time we have stayed here. Ther were 9 of u...</td>\n",
              "    </tr>\n",
              "    <tr>\n",
              "      <th>9</th>\n",
              "      <td>10.0</td>\n",
              "      <td>12 of us just stayed here on my hen weekend 21...</td>\n",
              "    </tr>\n",
              "  </tbody>\n",
              "</table>\n",
              "</div>\n",
              "    <div class=\"colab-df-buttons\">\n",
              "\n",
              "  <div class=\"colab-df-container\">\n",
              "    <button class=\"colab-df-convert\" onclick=\"convertToInteractive('df-8488df42-2e8f-4d46-b93c-c789989a2498')\"\n",
              "            title=\"Convert this dataframe to an interactive table.\"\n",
              "            style=\"display:none;\">\n",
              "\n",
              "  <svg xmlns=\"http://www.w3.org/2000/svg\" height=\"24px\" viewBox=\"0 -960 960 960\">\n",
              "    <path d=\"M120-120v-720h720v720H120Zm60-500h600v-160H180v160Zm220 220h160v-160H400v160Zm0 220h160v-160H400v160ZM180-400h160v-160H180v160Zm440 0h160v-160H620v160ZM180-180h160v-160H180v160Zm440 0h160v-160H620v160Z\"/>\n",
              "  </svg>\n",
              "    </button>\n",
              "\n",
              "  <style>\n",
              "    .colab-df-container {\n",
              "      display:flex;\n",
              "      gap: 12px;\n",
              "    }\n",
              "\n",
              "    .colab-df-convert {\n",
              "      background-color: #E8F0FE;\n",
              "      border: none;\n",
              "      border-radius: 50%;\n",
              "      cursor: pointer;\n",
              "      display: none;\n",
              "      fill: #1967D2;\n",
              "      height: 32px;\n",
              "      padding: 0 0 0 0;\n",
              "      width: 32px;\n",
              "    }\n",
              "\n",
              "    .colab-df-convert:hover {\n",
              "      background-color: #E2EBFA;\n",
              "      box-shadow: 0px 1px 2px rgba(60, 64, 67, 0.3), 0px 1px 3px 1px rgba(60, 64, 67, 0.15);\n",
              "      fill: #174EA6;\n",
              "    }\n",
              "\n",
              "    .colab-df-buttons div {\n",
              "      margin-bottom: 4px;\n",
              "    }\n",
              "\n",
              "    [theme=dark] .colab-df-convert {\n",
              "      background-color: #3B4455;\n",
              "      fill: #D2E3FC;\n",
              "    }\n",
              "\n",
              "    [theme=dark] .colab-df-convert:hover {\n",
              "      background-color: #434B5C;\n",
              "      box-shadow: 0px 1px 3px 1px rgba(0, 0, 0, 0.15);\n",
              "      filter: drop-shadow(0px 1px 2px rgba(0, 0, 0, 0.3));\n",
              "      fill: #FFFFFF;\n",
              "    }\n",
              "  </style>\n",
              "\n",
              "    <script>\n",
              "      const buttonEl =\n",
              "        document.querySelector('#df-8488df42-2e8f-4d46-b93c-c789989a2498 button.colab-df-convert');\n",
              "      buttonEl.style.display =\n",
              "        google.colab.kernel.accessAllowed ? 'block' : 'none';\n",
              "\n",
              "      async function convertToInteractive(key) {\n",
              "        const element = document.querySelector('#df-8488df42-2e8f-4d46-b93c-c789989a2498');\n",
              "        const dataTable =\n",
              "          await google.colab.kernel.invokeFunction('convertToInteractive',\n",
              "                                                    [key], {});\n",
              "        if (!dataTable) return;\n",
              "\n",
              "        const docLinkHtml = 'Like what you see? Visit the ' +\n",
              "          '<a target=\"_blank\" href=https://colab.research.google.com/notebooks/data_table.ipynb>data table notebook</a>'\n",
              "          + ' to learn more about interactive tables.';\n",
              "        element.innerHTML = '';\n",
              "        dataTable['output_type'] = 'display_data';\n",
              "        await google.colab.output.renderOutput(dataTable, element);\n",
              "        const docLink = document.createElement('div');\n",
              "        docLink.innerHTML = docLinkHtml;\n",
              "        element.appendChild(docLink);\n",
              "      }\n",
              "    </script>\n",
              "  </div>\n",
              "\n",
              "\n",
              "<div id=\"df-0ff0e670-3907-45f6-b726-90f5bc9dded5\">\n",
              "  <button class=\"colab-df-quickchart\" onclick=\"quickchart('df-0ff0e670-3907-45f6-b726-90f5bc9dded5')\"\n",
              "            title=\"Suggest charts\"\n",
              "            style=\"display:none;\">\n",
              "\n",
              "<svg xmlns=\"http://www.w3.org/2000/svg\" height=\"24px\"viewBox=\"0 0 24 24\"\n",
              "     width=\"24px\">\n",
              "    <g>\n",
              "        <path d=\"M19 3H5c-1.1 0-2 .9-2 2v14c0 1.1.9 2 2 2h14c1.1 0 2-.9 2-2V5c0-1.1-.9-2-2-2zM9 17H7v-7h2v7zm4 0h-2V7h2v10zm4 0h-2v-4h2v4z\"/>\n",
              "    </g>\n",
              "</svg>\n",
              "  </button>\n",
              "\n",
              "<style>\n",
              "  .colab-df-quickchart {\n",
              "      --bg-color: #E8F0FE;\n",
              "      --fill-color: #1967D2;\n",
              "      --hover-bg-color: #E2EBFA;\n",
              "      --hover-fill-color: #174EA6;\n",
              "      --disabled-fill-color: #AAA;\n",
              "      --disabled-bg-color: #DDD;\n",
              "  }\n",
              "\n",
              "  [theme=dark] .colab-df-quickchart {\n",
              "      --bg-color: #3B4455;\n",
              "      --fill-color: #D2E3FC;\n",
              "      --hover-bg-color: #434B5C;\n",
              "      --hover-fill-color: #FFFFFF;\n",
              "      --disabled-bg-color: #3B4455;\n",
              "      --disabled-fill-color: #666;\n",
              "  }\n",
              "\n",
              "  .colab-df-quickchart {\n",
              "    background-color: var(--bg-color);\n",
              "    border: none;\n",
              "    border-radius: 50%;\n",
              "    cursor: pointer;\n",
              "    display: none;\n",
              "    fill: var(--fill-color);\n",
              "    height: 32px;\n",
              "    padding: 0;\n",
              "    width: 32px;\n",
              "  }\n",
              "\n",
              "  .colab-df-quickchart:hover {\n",
              "    background-color: var(--hover-bg-color);\n",
              "    box-shadow: 0 1px 2px rgba(60, 64, 67, 0.3), 0 1px 3px 1px rgba(60, 64, 67, 0.15);\n",
              "    fill: var(--button-hover-fill-color);\n",
              "  }\n",
              "\n",
              "  .colab-df-quickchart-complete:disabled,\n",
              "  .colab-df-quickchart-complete:disabled:hover {\n",
              "    background-color: var(--disabled-bg-color);\n",
              "    fill: var(--disabled-fill-color);\n",
              "    box-shadow: none;\n",
              "  }\n",
              "\n",
              "  .colab-df-spinner {\n",
              "    border: 2px solid var(--fill-color);\n",
              "    border-color: transparent;\n",
              "    border-bottom-color: var(--fill-color);\n",
              "    animation:\n",
              "      spin 1s steps(1) infinite;\n",
              "  }\n",
              "\n",
              "  @keyframes spin {\n",
              "    0% {\n",
              "      border-color: transparent;\n",
              "      border-bottom-color: var(--fill-color);\n",
              "      border-left-color: var(--fill-color);\n",
              "    }\n",
              "    20% {\n",
              "      border-color: transparent;\n",
              "      border-left-color: var(--fill-color);\n",
              "      border-top-color: var(--fill-color);\n",
              "    }\n",
              "    30% {\n",
              "      border-color: transparent;\n",
              "      border-left-color: var(--fill-color);\n",
              "      border-top-color: var(--fill-color);\n",
              "      border-right-color: var(--fill-color);\n",
              "    }\n",
              "    40% {\n",
              "      border-color: transparent;\n",
              "      border-right-color: var(--fill-color);\n",
              "      border-top-color: var(--fill-color);\n",
              "    }\n",
              "    60% {\n",
              "      border-color: transparent;\n",
              "      border-right-color: var(--fill-color);\n",
              "    }\n",
              "    80% {\n",
              "      border-color: transparent;\n",
              "      border-right-color: var(--fill-color);\n",
              "      border-bottom-color: var(--fill-color);\n",
              "    }\n",
              "    90% {\n",
              "      border-color: transparent;\n",
              "      border-bottom-color: var(--fill-color);\n",
              "    }\n",
              "  }\n",
              "</style>\n",
              "\n",
              "  <script>\n",
              "    async function quickchart(key) {\n",
              "      const quickchartButtonEl =\n",
              "        document.querySelector('#' + key + ' button');\n",
              "      quickchartButtonEl.disabled = true;  // To prevent multiple clicks.\n",
              "      quickchartButtonEl.classList.add('colab-df-spinner');\n",
              "      try {\n",
              "        const charts = await google.colab.kernel.invokeFunction(\n",
              "            'suggestCharts', [key], {});\n",
              "      } catch (error) {\n",
              "        console.error('Error during call to suggestCharts:', error);\n",
              "      }\n",
              "      quickchartButtonEl.classList.remove('colab-df-spinner');\n",
              "      quickchartButtonEl.classList.add('colab-df-quickchart-complete');\n",
              "    }\n",
              "    (() => {\n",
              "      let quickchartButtonEl =\n",
              "        document.querySelector('#df-0ff0e670-3907-45f6-b726-90f5bc9dded5 button');\n",
              "      quickchartButtonEl.style.display =\n",
              "        google.colab.kernel.accessAllowed ? 'block' : 'none';\n",
              "    })();\n",
              "  </script>\n",
              "</div>\n",
              "\n",
              "    </div>\n",
              "  </div>\n"
            ],
            "application/vnd.google.colaboratory.intrinsic+json": {
              "type": "dataframe",
              "variable_name": "df",
              "summary": "{\n  \"name\": \"df\",\n  \"rows\": 100000,\n  \"fields\": [\n    {\n      \"column\": \"Rating\",\n      \"properties\": {\n        \"dtype\": \"number\",\n        \"std\": 2.11478824165058,\n        \"min\": 2.0,\n        \"max\": 10.0,\n        \"num_unique_values\": 7,\n        \"samples\": [\n          10.0,\n          8.0,\n          7.0\n        ],\n        \"semantic_type\": \"\",\n        \"description\": \"\"\n      }\n    },\n    {\n      \"column\": \"Review\",\n      \"properties\": {\n        \"dtype\": \"string\",\n        \"num_unique_values\": 99945,\n        \"samples\": [\n          \"Such a warm welcome greeted us when we stepped inside the Hotel & the standard is evident straight away it is spotless. We were taken to our room which was so lovely clean & bright with crisp white bedding & thick fluffy white towels even the tea/coffee & biscuits were in abundance, everthing to make your stay comfortable. After a long journey we sat on the balcony facing the sea in the sunshine & relaxed with drink what could be nicer.  The breakfasts were excellent everything was so fresh & all your dietry requirements were met. The Hotel is situated in a quiet area but only a short stroll to the centre. We have never been to Eastbourne before, but should we go back we certainly know where to stay. Phil & Lyn Staffordshire\",\n          \"Enjoyed our night there, very comfortable and a great night\\u2019s  sleep. TV nice and big, plenty of channels, WiFi,worked great. Temperature of room was also,good. Everything provided and clean. Highlight was the great bed. \",\n          \"Fabulous hotel. We have recently celebrated our parents golden wedding at The Dryfesdale Country House Hotel. The staff were brilliant, nothing too much trouble. We had our own roon to celebrate in until midnight. We had arranged various surprises for mum & dad and the hotel was most helpful. The food was delicious, though the tomato soup not creamy,  but it can't all be to everyone's taste. Can I just say the cheesecake is to die for for any cheesecake lovers out there. Breakfast was a full English with fruit, cereal,etc. tea and coffee served at your table. The views are amazing, we had a patio garden room, which was lovely to relax in, with the doors open to the country side. Yes there is a motorway nearby but does not effect the tranquility. It is just in the distance. When your doors are closed you cannot hear anything. Obviously you get some room noise from other rooms , but this is too be expected in a hotel, nothing out of the ordinary.  Would just like to end with a big thank you for helping to make our parents weekend so special. Thank You.\"\n        ],\n        \"semantic_type\": \"\",\n        \"description\": \"\"\n      }\n    }\n  ]\n}"
            }
          },
          "metadata": {},
          "execution_count": 5
        }
      ],
      "source": [
        "\"\"\"\n",
        "Read the data into a pandas DataFrame. Only the second and third columns are required.\n",
        "The second column is review text and third one is review rating on a scale of 0-10.\n",
        "\"\"\"\n",
        "df = pd.read_csv(dataFileName, sep=\"\\t\", header=None, usecols=[0,1], names=[\"Rating\", \"Review\"], encoding=\"utf8\")\n",
        "print(\"No. of reviews:\", df.shape[0])\n",
        "df.head(10)"
      ]
    },
    {
      "cell_type": "code",
      "execution_count": 6,
      "metadata": {
        "id": "FdK_NOFGaei6",
        "colab": {
          "base_uri": "https://localhost:8080/",
          "height": 467
        },
        "outputId": "06668276-9dad-4a02-e1a3-adfd7521e7d2"
      },
      "outputs": [
        {
          "output_type": "execute_result",
          "data": {
            "text/plain": [
              "<Axes: xlabel='Rating'>"
            ]
          },
          "metadata": {},
          "execution_count": 6
        },
        {
          "output_type": "display_data",
          "data": {
            "text/plain": [
              "<Figure size 640x480 with 1 Axes>"
            ],
            "image/png": "[encoded data removed]"
          },
          "metadata": {}
        }
      ],
      "source": [
        "\"\"\"\n",
        "Let's take a quick look at the distribution of different ratings\n",
        "\"\"\"\n",
        "rating_frequency_count = df.Rating.value_counts()\n",
        "sns.barplot(x=rating_frequency_count.index, y=rating_frequency_count.values)"
      ]
    },
    {
      "cell_type": "code",
      "execution_count": 7,
      "metadata": {
        "id": "rznp2H8maei7",
        "colab": {
          "base_uri": "https://localhost:8080/",
          "height": 363
        },
        "outputId": "8283d9ab-3d5e-48c1-ddf7-b4f6986561e4"
      },
      "outputs": [
        {
          "output_type": "execute_result",
          "data": {
            "text/plain": [
              "   Rating                                             Review Sentiment\n",
              "0    10.0  A dream cottage in a dream village. A very per...  Positive\n",
              "1    10.0  Always stay here when in Brighton and wouldn't...  Positive\n",
              "2    10.0  A warm welcome awaits at this secluded B+B. Br...  Positive\n",
              "3    10.0  Ann and David are perfect hosts and a stay in ...  Positive\n",
              "4    10.0  A very comfortable B&B located a short walk ou...  Positive\n",
              "5    10.0  Comfortable, cosy, clean accommodation. Warm w...  Positive\n",
              "6     8.0  I stayed here as part of a large group of girl...  Positive\n",
              "7    10.0  I have just returned from a Stag Weekend with ...  Positive\n",
              "8    10.0  4th time we have stayed here. Ther were 9 of u...  Positive\n",
              "9    10.0  12 of us just stayed here on my hen weekend 21...  Positive"
            ],
            "text/html": [
              "\n",
              "  <div id=\"df-cd9b2573-dc46-40a2-bd5e-2137729fc33f\" class=\"colab-df-container\">\n",
              "    <div>\n",
              "<style scoped>\n",
              "    .dataframe tbody tr th:only-of-type {\n",
              "        vertical-align: middle;\n",
              "    }\n",
              "\n",
              "    .dataframe tbody tr th {\n",
              "        vertical-align: top;\n",
              "    }\n",
              "\n",
              "    .dataframe thead th {\n",
              "        text-align: right;\n",
              "    }\n",
              "</style>\n",
              "<table border=\"1\" class=\"dataframe\">\n",
              "  <thead>\n",
              "    <tr style=\"text-align: right;\">\n",
              "      <th></th>\n",
              "      <th>Rating</th>\n",
              "      <th>Review</th>\n",
              "      <th>Sentiment</th>\n",
              "    </tr>\n",
              "  </thead>\n",
              "  <tbody>\n",
              "    <tr>\n",
              "      <th>0</th>\n",
              "      <td>10.0</td>\n",
              "      <td>A dream cottage in a dream village. A very per...</td>\n",
              "      <td>Positive</td>\n",
              "    </tr>\n",
              "    <tr>\n",
              "      <th>1</th>\n",
              "      <td>10.0</td>\n",
              "      <td>Always stay here when in Brighton and wouldn't...</td>\n",
              "      <td>Positive</td>\n",
              "    </tr>\n",
              "    <tr>\n",
              "      <th>2</th>\n",
              "      <td>10.0</td>\n",
              "      <td>A warm welcome awaits at this secluded B+B. Br...</td>\n",
              "      <td>Positive</td>\n",
              "    </tr>\n",
              "    <tr>\n",
              "      <th>3</th>\n",
              "      <td>10.0</td>\n",
              "      <td>Ann and David are perfect hosts and a stay in ...</td>\n",
              "      <td>Positive</td>\n",
              "    </tr>\n",
              "    <tr>\n",
              "      <th>4</th>\n",
              "      <td>10.0</td>\n",
              "      <td>A very comfortable B&amp;B located a short walk ou...</td>\n",
              "      <td>Positive</td>\n",
              "    </tr>\n",
              "    <tr>\n",
              "      <th>5</th>\n",
              "      <td>10.0</td>\n",
              "      <td>Comfortable, cosy, clean accommodation. Warm w...</td>\n",
              "      <td>Positive</td>\n",
              "    </tr>\n",
              "    <tr>\n",
              "      <th>6</th>\n",
              "      <td>8.0</td>\n",
              "      <td>I stayed here as part of a large group of girl...</td>\n",
              "      <td>Positive</td>\n",
              "    </tr>\n",
              "    <tr>\n",
              "      <th>7</th>\n",
              "      <td>10.0</td>\n",
              "      <td>I have just returned from a Stag Weekend with ...</td>\n",
              "      <td>Positive</td>\n",
              "    </tr>\n",
              "    <tr>\n",
              "      <th>8</th>\n",
              "      <td>10.0</td>\n",
              "      <td>4th time we have stayed here. Ther were 9 of u...</td>\n",
              "      <td>Positive</td>\n",
              "    </tr>\n",
              "    <tr>\n",
              "      <th>9</th>\n",
              "      <td>10.0</td>\n",
              "      <td>12 of us just stayed here on my hen weekend 21...</td>\n",
              "      <td>Positive</td>\n",
              "    </tr>\n",
              "  </tbody>\n",
              "</table>\n",
              "</div>\n",
              "    <div class=\"colab-df-buttons\">\n",
              "\n",
              "  <div class=\"colab-df-container\">\n",
              "    <button class=\"colab-df-convert\" onclick=\"convertToInteractive('df-cd9b2573-dc46-40a2-bd5e-2137729fc33f')\"\n",
              "            title=\"Convert this dataframe to an interactive table.\"\n",
              "            style=\"display:none;\">\n",
              "\n",
              "  <svg xmlns=\"http://www.w3.org/2000/svg\" height=\"24px\" viewBox=\"0 -960 960 960\">\n",
              "    <path d=\"M120-120v-720h720v720H120Zm60-500h600v-160H180v160Zm220 220h160v-160H400v160Zm0 220h160v-160H400v160ZM180-400h160v-160H180v160Zm440 0h160v-160H620v160ZM180-180h160v-160H180v160Zm440 0h160v-160H620v160Z\"/>\n",
              "  </svg>\n",
              "    </button>\n",
              "\n",
              "  <style>\n",
              "    .colab-df-container {\n",
              "      display:flex;\n",
              "      gap: 12px;\n",
              "    }\n",
              "\n",
              "    .colab-df-convert {\n",
              "      background-color: #E8F0FE;\n",
              "      border: none;\n",
              "      border-radius: 50%;\n",
              "      cursor: pointer;\n",
              "      display: none;\n",
              "      fill: #1967D2;\n",
              "      height: 32px;\n",
              "      padding: 0 0 0 0;\n",
              "      width: 32px;\n",
              "    }\n",
              "\n",
              "    .colab-df-convert:hover {\n",
              "      background-color: #E2EBFA;\n",
              "      box-shadow: 0px 1px 2px rgba(60, 64, 67, 0.3), 0px 1px 3px 1px rgba(60, 64, 67, 0.15);\n",
              "      fill: #174EA6;\n",
              "    }\n",
              "\n",
              "    .colab-df-buttons div {\n",
              "      margin-bottom: 4px;\n",
              "    }\n",
              "\n",
              "    [theme=dark] .colab-df-convert {\n",
              "      background-color: #3B4455;\n",
              "      fill: #D2E3FC;\n",
              "    }\n",
              "\n",
              "    [theme=dark] .colab-df-convert:hover {\n",
              "      background-color: #434B5C;\n",
              "      box-shadow: 0px 1px 3px 1px rgba(0, 0, 0, 0.15);\n",
              "      filter: drop-shadow(0px 1px 2px rgba(0, 0, 0, 0.3));\n",
              "      fill: #FFFFFF;\n",
              "    }\n",
              "  </style>\n",
              "\n",
              "    <script>\n",
              "      const buttonEl =\n",
              "        document.querySelector('#df-cd9b2573-dc46-40a2-bd5e-2137729fc33f button.colab-df-convert');\n",
              "      buttonEl.style.display =\n",
              "        google.colab.kernel.accessAllowed ? 'block' : 'none';\n",
              "\n",
              "      async function convertToInteractive(key) {\n",
              "        const element = document.querySelector('#df-cd9b2573-dc46-40a2-bd5e-2137729fc33f');\n",
              "        const dataTable =\n",
              "          await google.colab.kernel.invokeFunction('convertToInteractive',\n",
              "                                                    [key], {});\n",
              "        if (!dataTable) return;\n",
              "\n",
              "        const docLinkHtml = 'Like what you see? Visit the ' +\n",
              "          '<a target=\"_blank\" href=https://colab.research.google.com/notebooks/data_table.ipynb>data table notebook</a>'\n",
              "          + ' to learn more about interactive tables.';\n",
              "        element.innerHTML = '';\n",
              "        dataTable['output_type'] = 'display_data';\n",
              "        await google.colab.output.renderOutput(dataTable, element);\n",
              "        const docLink = document.createElement('div');\n",
              "        docLink.innerHTML = docLinkHtml;\n",
              "        element.appendChild(docLink);\n",
              "      }\n",
              "    </script>\n",
              "  </div>\n",
              "\n",
              "\n",
              "<div id=\"df-12cd171e-75f5-4ad3-bd34-a2032eef05ac\">\n",
              "  <button class=\"colab-df-quickchart\" onclick=\"quickchart('df-12cd171e-75f5-4ad3-bd34-a2032eef05ac')\"\n",
              "            title=\"Suggest charts\"\n",
              "            style=\"display:none;\">\n",
              "\n",
              "<svg xmlns=\"http://www.w3.org/2000/svg\" height=\"24px\"viewBox=\"0 0 24 24\"\n",
              "     width=\"24px\">\n",
              "    <g>\n",
              "        <path d=\"M19 3H5c-1.1 0-2 .9-2 2v14c0 1.1.9 2 2 2h14c1.1 0 2-.9 2-2V5c0-1.1-.9-2-2-2zM9 17H7v-7h2v7zm4 0h-2V7h2v10zm4 0h-2v-4h2v4z\"/>\n",
              "    </g>\n",
              "</svg>\n",
              "  </button>\n",
              "\n",
              "<style>\n",
              "  .colab-df-quickchart {\n",
              "      --bg-color: #E8F0FE;\n",
              "      --fill-color: #1967D2;\n",
              "      --hover-bg-color: #E2EBFA;\n",
              "      --hover-fill-color: #174EA6;\n",
              "      --disabled-fill-color: #AAA;\n",
              "      --disabled-bg-color: #DDD;\n",
              "  }\n",
              "\n",
              "  [theme=dark] .colab-df-quickchart {\n",
              "      --bg-color: #3B4455;\n",
              "      --fill-color: #D2E3FC;\n",
              "      --hover-bg-color: #434B5C;\n",
              "      --hover-fill-color: #FFFFFF;\n",
              "      --disabled-bg-color: #3B4455;\n",
              "      --disabled-fill-color: #666;\n",
              "  }\n",
              "\n",
              "  .colab-df-quickchart {\n",
              "    background-color: var(--bg-color);\n",
              "    border: none;\n",
              "    border-radius: 50%;\n",
              "    cursor: pointer;\n",
              "    display: none;\n",
              "    fill: var(--fill-color);\n",
              "    height: 32px;\n",
              "    padding: 0;\n",
              "    width: 32px;\n",
              "  }\n",
              "\n",
              "  .colab-df-quickchart:hover {\n",
              "    background-color: var(--hover-bg-color);\n",
              "    box-shadow: 0 1px 2px rgba(60, 64, 67, 0.3), 0 1px 3px 1px rgba(60, 64, 67, 0.15);\n",
              "    fill: var(--button-hover-fill-color);\n",
              "  }\n",
              "\n",
              "  .colab-df-quickchart-complete:disabled,\n",
              "  .colab-df-quickchart-complete:disabled:hover {\n",
              "    background-color: var(--disabled-bg-color);\n",
              "    fill: var(--disabled-fill-color);\n",
              "    box-shadow: none;\n",
              "  }\n",
              "\n",
              "  .colab-df-spinner {\n",
              "    border: 2px solid var(--fill-color);\n",
              "    border-color: transparent;\n",
              "    border-bottom-color: var(--fill-color);\n",
              "    animation:\n",
              "      spin 1s steps(1) infinite;\n",
              "  }\n",
              "\n",
              "  @keyframes spin {\n",
              "    0% {\n",
              "      border-color: transparent;\n",
              "      border-bottom-color: var(--fill-color);\n",
              "      border-left-color: var(--fill-color);\n",
              "    }\n",
              "    20% {\n",
              "      border-color: transparent;\n",
              "      border-left-color: var(--fill-color);\n",
              "      border-top-color: var(--fill-color);\n",
              "    }\n",
              "    30% {\n",
              "      border-color: transparent;\n",
              "      border-left-color: var(--fill-color);\n",
              "      border-top-color: var(--fill-color);\n",
              "      border-right-color: var(--fill-color);\n",
              "    }\n",
              "    40% {\n",
              "      border-color: transparent;\n",
              "      border-right-color: var(--fill-color);\n",
              "      border-top-color: var(--fill-color);\n",
              "    }\n",
              "    60% {\n",
              "      border-color: transparent;\n",
              "      border-right-color: var(--fill-color);\n",
              "    }\n",
              "    80% {\n",
              "      border-color: transparent;\n",
              "      border-right-color: var(--fill-color);\n",
              "      border-bottom-color: var(--fill-color);\n",
              "    }\n",
              "    90% {\n",
              "      border-color: transparent;\n",
              "      border-bottom-color: var(--fill-color);\n",
              "    }\n",
              "  }\n",
              "</style>\n",
              "\n",
              "  <script>\n",
              "    async function quickchart(key) {\n",
              "      const quickchartButtonEl =\n",
              "        document.querySelector('#' + key + ' button');\n",
              "      quickchartButtonEl.disabled = true;  // To prevent multiple clicks.\n",
              "      quickchartButtonEl.classList.add('colab-df-spinner');\n",
              "      try {\n",
              "        const charts = await google.colab.kernel.invokeFunction(\n",
              "            'suggestCharts', [key], {});\n",
              "      } catch (error) {\n",
              "        console.error('Error during call to suggestCharts:', error);\n",
              "      }\n",
              "      quickchartButtonEl.classList.remove('colab-df-spinner');\n",
              "      quickchartButtonEl.classList.add('colab-df-quickchart-complete');\n",
              "    }\n",
              "    (() => {\n",
              "      let quickchartButtonEl =\n",
              "        document.querySelector('#df-12cd171e-75f5-4ad3-bd34-a2032eef05ac button');\n",
              "      quickchartButtonEl.style.display =\n",
              "        google.colab.kernel.accessAllowed ? 'block' : 'none';\n",
              "    })();\n",
              "  </script>\n",
              "</div>\n",
              "\n",
              "    </div>\n",
              "  </div>\n"
            ],
            "application/vnd.google.colaboratory.intrinsic+json": {
              "type": "dataframe",
              "variable_name": "df",
              "summary": "{\n  \"name\": \"df\",\n  \"rows\": 100000,\n  \"fields\": [\n    {\n      \"column\": \"Rating\",\n      \"properties\": {\n        \"dtype\": \"number\",\n        \"std\": 2.11478824165058,\n        \"min\": 2.0,\n        \"max\": 10.0,\n        \"num_unique_values\": 7,\n        \"samples\": [\n          10.0,\n          8.0,\n          7.0\n        ],\n        \"semantic_type\": \"\",\n        \"description\": \"\"\n      }\n    },\n    {\n      \"column\": \"Review\",\n      \"properties\": {\n        \"dtype\": \"string\",\n        \"num_unique_values\": 99945,\n        \"samples\": [\n          \"Such a warm welcome greeted us when we stepped inside the Hotel & the standard is evident straight away it is spotless. We were taken to our room which was so lovely clean & bright with crisp white bedding & thick fluffy white towels even the tea/coffee & biscuits were in abundance, everthing to make your stay comfortable. After a long journey we sat on the balcony facing the sea in the sunshine & relaxed with drink what could be nicer.  The breakfasts were excellent everything was so fresh & all your dietry requirements were met. The Hotel is situated in a quiet area but only a short stroll to the centre. We have never been to Eastbourne before, but should we go back we certainly know where to stay. Phil & Lyn Staffordshire\",\n          \"Enjoyed our night there, very comfortable and a great night\\u2019s  sleep. TV nice and big, plenty of channels, WiFi,worked great. Temperature of room was also,good. Everything provided and clean. Highlight was the great bed. \",\n          \"Fabulous hotel. We have recently celebrated our parents golden wedding at The Dryfesdale Country House Hotel. The staff were brilliant, nothing too much trouble. We had our own roon to celebrate in until midnight. We had arranged various surprises for mum & dad and the hotel was most helpful. The food was delicious, though the tomato soup not creamy,  but it can't all be to everyone's taste. Can I just say the cheesecake is to die for for any cheesecake lovers out there. Breakfast was a full English with fruit, cereal,etc. tea and coffee served at your table. The views are amazing, we had a patio garden room, which was lovely to relax in, with the doors open to the country side. Yes there is a motorway nearby but does not effect the tranquility. It is just in the distance. When your doors are closed you cannot hear anything. Obviously you get some room noise from other rooms , but this is too be expected in a hotel, nothing out of the ordinary.  Would just like to end with a big thank you for helping to make our parents weekend so special. Thank You.\"\n        ],\n        \"semantic_type\": \"\",\n        \"description\": \"\"\n      }\n    },\n    {\n      \"column\": \"Sentiment\",\n      \"properties\": {\n        \"dtype\": \"category\",\n        \"num_unique_values\": 2,\n        \"samples\": [\n          \"Negative\",\n          \"Positive\"\n        ],\n        \"semantic_type\": \"\",\n        \"description\": \"\"\n      }\n    }\n  ]\n}"
            }
          },
          "metadata": {},
          "execution_count": 7
        }
      ],
      "source": [
        "\"\"\"\n",
        "Add \"Sentiment\" column to the DataFrame based on the rule: IF Rating <= 5 THEN Negative ELSE Positive.\n",
        "Later, we will use the Review and Sentiment columns to train a Binary Classifier\n",
        "\"\"\"\n",
        "df[\"Sentiment\"] = df[\"Rating\"].map(lambda x: \"Negative\" if x <= 5 else \"Positive\")\n",
        "df.head(10)"
      ]
    },
    {
      "cell_type": "code",
      "execution_count": 8,
      "metadata": {
        "id": "oTgAtqLjaei8",
        "colab": {
          "base_uri": "https://localhost:8080/",
          "height": 467
        },
        "outputId": "763b24ba-86cb-48c2-b3fd-6eae9dea53eb"
      },
      "outputs": [
        {
          "output_type": "execute_result",
          "data": {
            "text/plain": [
              "<Axes: xlabel='Sentiment'>"
            ]
          },
          "metadata": {},
          "execution_count": 8
        },
        {
          "output_type": "display_data",
          "data": {
            "text/plain": [
              "<Figure size 640x480 with 1 Axes>"
            ],
            "image/png": "[encoded data removed]"
          },
          "metadata": {}
        }
      ],
      "source": [
        "\"\"\"\n",
        "Let's take a quick look at the distribution of sentiments\n",
        "\"\"\"\n",
        "rating_frequency_count = df.Sentiment.value_counts()\n",
        "sns.barplot(x=rating_frequency_count.index, y=rating_frequency_count.values)"
      ]
    },
    {
      "cell_type": "code",
      "execution_count": 9,
      "metadata": {
        "id": "0FNsTZ93aei9",
        "colab": {
          "base_uri": "https://localhost:8080/",
          "height": 411
        },
        "outputId": "619bcd15-c1c9-4232-f762-e037de9c3ad7"
      },
      "outputs": [
        {
          "output_type": "display_data",
          "data": {
            "text/plain": [
              "<Figure size 640x480 with 1 Axes>"
            ],
            "image/png": "[encoded data removed]"
          },
          "metadata": {}
        }
      ],
      "source": [
        "\"\"\"\n",
        "Now let's find out a value for maxlen. For that, we first look at the distribution of review lengths in terms of\n",
        "number of words. A box plot is used to visualize this distribution.\n",
        "\"\"\"\n",
        "\n",
        "re_wordMatcher = re.compile(r'[a-z0-9]+') #Declare regex to extract words\n",
        "numWords = df[\"Review\"].map(lambda x: len(re_wordMatcher.findall(x.lower())))\n",
        "g = sns.boxplot(numWords)"
      ]
    },
    {
      "cell_type": "code",
      "execution_count": 10,
      "metadata": {
        "id": "oSImpSHEaei-",
        "colab": {
          "base_uri": "https://localhost:8080/"
        },
        "outputId": "bec3b5d9-556f-47af-eae1-d7e705a7b2d5"
      },
      "outputs": [
        {
          "output_type": "stream",
          "name": "stdout",
          "text": [
            "90th quantile of review length: 191.0\n"
          ]
        }
      ],
      "source": [
        "\"\"\"\n",
        "The above plot shows that there are few very long reviews (black dots on the right) but most of the reviews are\n",
        "comparatively shorter than around 250 words. Specifically, let's find the 90th quantile of the review length.\n",
        "\"\"\"\n",
        "\n",
        "reviewLen90 = np.quantile(numWords, 0.90)\n",
        "print(\"90th quantile of review length:\", reviewLen90)"
      ]
    },
    {
      "cell_type": "code",
      "execution_count": 11,
      "metadata": {
        "id": "9NPXJC3Baei-"
      },
      "outputs": [],
      "source": [
        "\"\"\"\n",
        "Thus, 90% of reviews are of 191 words or shorter. We'll set maxlen close to this.\n",
        "\"\"\"\n",
        "maxlen = 190"
      ]
    },
    {
      "cell_type": "code",
      "execution_count": 12,
      "metadata": {
        "id": "mSVXj85Raei_",
        "colab": {
          "base_uri": "https://localhost:8080/"
        },
        "outputId": "b39cf445-6a5a-40ae-da0a-1e6527c6ac02"
      },
      "outputs": [
        {
          "output_type": "stream",
          "name": "stdout",
          "text": [
            "Shape of train and test dataframes: (80000, 3) (20000, 3)\n"
          ]
        }
      ],
      "source": [
        "\"\"\"\n",
        "Lets's create training and test datasets by keeping ratio between the positive and negative labels same.\n",
        "We use sklearn.model_selection.StratifiedKFold setting number of folds (n_splits) = 5, which splits the data into\n",
        "80% train and 20% test and for 5 folds. But we keep only the first fold for this demo.\n",
        "\"\"\"\n",
        "labels = np.array(df[\"Sentiment\"].map(lambda x: 1. if x == \"Negative\" else 0.))\n",
        "skf = StratifiedKFold(n_splits=5)\n",
        "for trn_idx, tst_idx in skf.split(labels.reshape((-1, 1)), labels):\n",
        "    break\n",
        "\n",
        "train_df, test_df = df.iloc[trn_idx], df.iloc[tst_idx]\n",
        "\n",
        "print(\"Shape of train and test dataframes:\", train_df.shape, test_df.shape)"
      ]
    },
    {
      "cell_type": "markdown",
      "metadata": {
        "id": "nb5hQapKaei_"
      },
      "source": [
        "#### Data Processing: Review & Sentiment to Numeric Features & Labels for Model Training & Evaluation"
      ]
    },
    {
      "cell_type": "code",
      "execution_count": 13,
      "metadata": {
        "id": "WfNE7HPfaejA",
        "colab": {
          "base_uri": "https://localhost:8080/"
        },
        "outputId": "dd99f2be-2eb1-4504-c4ce-dc0db6891765"
      },
      "outputs": [
        {
          "output_type": "stream",
          "name": "stdout",
          "text": [
            "Collecting wget\n",
            "  Downloading wget-3.2.zip (10 kB)\n",
            "  Preparing metadata (setup.py) ... \u001b[?25l\u001b[?25hdone\n",
            "Building wheels for collected packages: wget\n",
            "  Building wheel for wget (setup.py) ... \u001b[?25l\u001b[?25hdone\n",
            "  Created wheel for wget: filename=wget-3.2-py3-none-any.whl size=9656 sha256=58075d3daed4d493f0eb45f2c91283f18e85b7fe76ef9733081dfe9664cc45ab\n",
            "  Stored in directory: /root/.cache/pip/wheels/8b/f1/7f/5c94f0a7a505ca1c81cd1d9208ae2064675d97582078e6c769\n",
            "Successfully built wget\n",
            "Installing collected packages: wget\n",
            "Successfully installed wget-3.2\n"
          ]
        }
      ],
      "source": [
        "!pip install wget"
      ]
    },
    {
      "cell_type": "code",
      "execution_count": 14,
      "metadata": {
        "id": "ySpDzABraejA",
        "colab": {
          "base_uri": "https://localhost:8080/"
        },
        "outputId": "50022328-68c1-46d3-f346-5f6910fa22b4"
      },
      "outputs": [
        {
          "output_type": "stream",
          "name": "stdout",
          "text": [
            "Word2Vec file does not exist and needs to be downloaded\n",
            "Downloading from https://dl.fbaipublicfiles.com/arrival/vectors/wiki.multi.en.vec\n"
          ]
        }
      ],
      "source": [
        "#Read FastText En model. If the file wiki.multi.en.vec' does not exist, download it from\n",
        "# https://dl.fbaipublicfiles.com/arrival/vectors/wiki.multi.en.vec\n",
        "import wget, os\n",
        "word2VecFile = os.path.join(os.curdir, 'wiki.multi.en.vec')\n",
        "\n",
        "if os.path.exists(word2VecFile):\n",
        "    print('Word2Vec file has been found and is being loaded...')\n",
        "else:\n",
        "    print('Word2Vec file does not exist and needs to be downloaded')\n",
        "    url = 'https://dl.fbaipublicfiles.com/arrival/vectors/wiki.multi.en.vec'\n",
        "    wget.download(url)\n",
        "    print('Downloading from', url)\n",
        "\n",
        "en_model = KeyedVectors.load_word2vec_format('wiki.multi.en.vec')"
      ]
    },
    {
      "cell_type": "code",
      "source": [
        "!ls -ltr"
      ],
      "metadata": {
        "colab": {
          "base_uri": "https://localhost:8080/"
        },
        "id": "bFyjleYEVXWw",
        "outputId": "6749320d-7fa6-46c1-ddc4-fa97ad4ce39c"
      },
      "execution_count": 15,
      "outputs": [
        {
          "output_type": "stream",
          "name": "stdout",
          "text": [
            "total 803980\n",
            "-rw-r--r-- 1 root root     31177 Mar 23  2020 variable.png\n",
            "-rw-r--r-- 1 root root     19999 Mar 23  2020 mnist.jpg\n",
            "-rw-r--r-- 1 root root    104307 Mar 23  2020 LinkNet34.png\n",
            "-rw-r--r-- 1 root root     57231 Mar 23  2020 ComputeGraph2.png\n",
            "-rw-r--r-- 1 root root     45311 Mar 23  2020 ComputeGraph1.png\n",
            "-rw-r--r-- 1 root root    639927 Mar 23  2020 2LayeredNetwork.png\n",
            "-rw-r--r-- 1 root root  55572306 Jan 12  2021 TripAdvisor_Hotel_Restaurant_Review_Samples.txt\n",
            "drwxr-xr-x 5 root root      4096 Dec  1  2021 data\n",
            "drwxr-xr-x 1 root root      4096 Aug 14 13:23 sample_data\n",
            "-rw-r--r-- 1 root root 138156330 Aug 18 11:07 ISB_PyTorch_Tutorial.zip\n",
            "drwxr-xr-x 2 root root      4096 Aug 18 11:07 ISB_PyTorch_Tutorial\n",
            "-rw-r--r-- 1 root root 628614720 Aug 18 11:08 wiki.multi.en.vec\n"
          ]
        }
      ]
    },
    {
      "cell_type": "code",
      "execution_count": 16,
      "metadata": {
        "id": "2Ajjhta0aejB",
        "colab": {
          "base_uri": "https://localhost:8080/"
        },
        "outputId": "1c299db8-e468-45dc-cff8-b2dbb3256398"
      },
      "outputs": [
        {
          "output_type": "stream",
          "name": "stdout",
          "text": [
            "Vocab size in pretrained model: 200000\n"
          ]
        }
      ],
      "source": [
        "\"\"\"\n",
        "Now let us create a numpy array containing the word vectors. Later this numpy array will be used for initilaizing\n",
        "the embedding layer in the model.\n",
        "\"\"\"\n",
        "\n",
        "vocab = list(en_model.key_to_index.keys())\n",
        "print(\"Vocab size in pretrained model:\", len(vocab))\n",
        "\n",
        "# check if the word 'and' is present in the pretrained model\n",
        "assert \"and\" in en_model\n",
        "\n",
        "# check the dimension of the word vectors\n",
        "assert embeddingDim == len(en_model[\"and\"])\n",
        "\n",
        "# initialize a numpy matrix which will store the word vectors\n",
        "# first row is for the padding token\n",
        "pretrained_weights = np.zeros((1+len(vocab), embeddingDim))\n",
        "\n",
        "# tqdm just adds a progress bar\n",
        "for i, token in enumerate(vocab):\n",
        "    pretrained_weights[i, :] = en_model[token]\n",
        "\n",
        "# map tokens in the vocab to ids\n",
        "vocab = dict(zip(vocab, range(1, len(vocab)+1)))\n"
      ]
    },
    {
      "cell_type": "code",
      "execution_count": 17,
      "metadata": {
        "id": "VcIxmcH8aejB"
      },
      "outputs": [],
      "source": [
        "def reviewText2Features(reviewText):\n",
        "    \"\"\"\n",
        "    Function which takes review text (basically a string!) as input and returns a features matrix X of shape\n",
        "    (maxlen, embeddingDim). This is done by splitting the review into words and then representing each word by it's\n",
        "    word vector obtained from the Word2Vec model. Sentences having more than maxlen words are truncated while shorter\n",
        "    ones are zero-padded by pre-adding all zero vectors.\n",
        "    \"\"\"\n",
        "    X = []\n",
        "\n",
        "    reviewWords = re_wordMatcher.findall(reviewText.lower())\n",
        "\n",
        "    \"\"\"\n",
        "    Tokenize the review using the word-matching regex and get its word vector from the pretrained Word2Vec model.\n",
        "    Words not found in the Word2Vec model are ignored\n",
        "    \"\"\"\n",
        "    for i, word in enumerate(reviewWords):\n",
        "        if word not in en_model:\n",
        "            continue\n",
        "        if i >= maxlen:\n",
        "            break\n",
        "        # X.append(en_model[word])\n",
        "        X.append(vocab[word])\n",
        "\n",
        "    \"\"\"\n",
        "    Add zero padding in the begining of the sequence if the number of words is less than maxlen.\n",
        "    \"\"\"\n",
        "    if len(X) < maxlen:\n",
        "        # zero_padding = [[0.]*embeddingDim]*(maxlen - len(X))\n",
        "        zero_padding = [0.]*(maxlen - len(X))\n",
        "        X = zero_padding + X\n",
        "\n",
        "    return X # np.array(X)\n",
        "\n",
        "def row2Features(row):\n",
        "    \"\"\"\n",
        "    Function which takes a datafram row as input and produces features and labels.\n",
        "\n",
        "    Input: row | Type: pandas.core.series.Series\n",
        "\n",
        "    Output: X, y | Type: X - np.ndarray of shape (maxlen, embeddingDim) & y - int where Positive = 0 & Negative = 1\n",
        "    \"\"\"\n",
        "\n",
        "    X = reviewText2Features(row[\"Review\"])\n",
        "    y = 1. if row[\"Sentiment\"] == \"Negative\" else 0.\n",
        "\n",
        "    return X, y"
      ]
    },
    {
      "cell_type": "code",
      "execution_count": 18,
      "metadata": {
        "id": "PmspuoxBaejC",
        "colab": {
          "base_uri": "https://localhost:8080/"
        },
        "outputId": "f080b182-8511-4482-81cb-85c79014cef5"
      },
      "outputs": [
        {
          "output_type": "stream",
          "name": "stdout",
          "text": [
            "Review: A dream cottage in a dream village. A very personal service so hard to find these days and by far the most idealistic B & B i have stayed in. Would highly recommend and looking forward to staying again when next in the area. Cornwall.\n",
            "Rating: 10.0\n",
            "Sentiment: Positive\n",
            "Review words: ['a', 'dream', 'cottage', 'in', 'a', 'dream', 'village', 'a', 'very', 'personal', 'service', 'so', 'hard', 'to', 'find', 'these', 'days', 'and', 'by', 'far', 'the', 'most', 'idealistic', 'b', 'b', 'i', 'have', 'stayed', 'in', 'would', 'highly', 'recommend', 'and', 'looking', 'forward', 'to', 'staying', 'again', 'when', 'next', 'in', 'the', 'area', 'cornwall']\n"
          ]
        }
      ],
      "source": [
        "\"\"\"\n",
        "Now apply the above function on a sample row\n",
        "\"\"\"\n",
        "sampleRow = df.iloc[0]\n",
        "reviewWords = re_wordMatcher.findall(sampleRow[\"Review\"].lower())\n",
        "print(\"Review:\", sampleRow[\"Review\"])\n",
        "print(\"Rating:\", sampleRow[\"Rating\"])\n",
        "print(\"Sentiment:\", sampleRow[\"Sentiment\"])\n",
        "print(\"Review words:\", reviewWords)"
      ]
    },
    {
      "cell_type": "code",
      "execution_count": 19,
      "metadata": {
        "id": "NW2eAIWgaejC",
        "colab": {
          "base_uri": "https://localhost:8080/"
        },
        "outputId": "9a37a423-799a-4bd7-ea2b-7139b2c1ff17"
      },
      "outputs": [
        {
          "output_type": "stream",
          "name": "stdout",
          "text": [
            "Dimension of X: 190\n",
            "[0.0, 0.0, 0.0, 0.0, 0.0, 0.0, 0.0, 0.0, 0.0, 0.0, 0.0, 0.0, 0.0, 0.0, 0.0, 0.0, 0.0, 0.0, 0.0, 0.0, 0.0, 0.0, 0.0, 0.0, 0.0, 0.0, 0.0, 0.0, 0.0, 0.0, 0.0, 0.0, 0.0, 0.0, 0.0, 0.0, 0.0, 0.0, 0.0, 0.0, 0.0, 0.0, 0.0, 0.0, 0.0, 0.0, 0.0, 0.0, 0.0, 0.0, 0.0, 0.0, 0.0, 0.0, 0.0, 0.0, 0.0, 0.0, 0.0, 0.0, 0.0, 0.0, 0.0, 0.0, 0.0, 0.0, 0.0, 0.0, 0.0, 0.0, 0.0, 0.0, 0.0, 0.0, 0.0, 0.0, 0.0, 0.0, 0.0, 0.0, 0.0, 0.0, 0.0, 0.0, 0.0, 0.0, 0.0, 0.0, 0.0, 0.0, 0.0, 0.0, 0.0, 0.0, 0.0, 0.0, 0.0, 0.0, 0.0, 0.0, 0.0, 0.0, 0.0, 0.0, 0.0, 0.0, 0.0, 0.0, 0.0, 0.0, 0.0, 0.0, 0.0, 0.0, 0.0, 0.0, 0.0, 0.0, 0.0, 0.0, 0.0, 0.0, 0.0, 0.0, 0.0, 0.0, 0.0, 0.0, 0.0, 0.0, 0.0, 0.0, 0.0, 0.0, 0.0, 0.0, 0.0, 0.0, 0.0, 0.0, 0.0, 0.0, 0.0, 0.0, 0.0, 0.0, 13, 2794, 8176, 7, 13, 2794, 363, 13, 226, 653, 331, 97, 1169, 12, 451, 123, 526, 8, 20, 666, 3, 107, 36052, 208, 208, 29, 43, 4062, 7, 74, 1500, 5683, 8, 1273, 1594, 12, 8031, 373, 79, 468, 7, 3, 205, 5566]\n",
            "Label y: 0.0\n"
          ]
        }
      ],
      "source": [
        "\"\"\"\n",
        "Give the sample row to the function row2Features\n",
        "\"\"\"\n",
        "X, y = row2Features(sampleRow)\n",
        "print(\"Dimension of X:\", len(X))\n",
        "print(X)\n",
        "print(\"Label y:\", y)"
      ]
    },
    {
      "cell_type": "code",
      "execution_count": 20,
      "metadata": {
        "id": "TStbu4eyaejD"
      },
      "outputs": [],
      "source": [
        "def shuffleArray(X, y):\n",
        "    idx = np.arange(X.shape[0])\n",
        "    np.random.shuffle(idx)\n",
        "    X = X[idx, :]\n",
        "    y = y[idx]\n",
        "    return X, y\n",
        "\n",
        "def generateModelReadyData(data, batchSize = 128, shuffle=False):\n",
        "    \"\"\"\n",
        "    Generator function which generates features and labels in batches\n",
        "\n",
        "    Input:\n",
        "    data - DataFrame where each row has review and sentiment\n",
        "    batchSize - No. of rows for which features will be created and returned in a batch.\n",
        "    Note: This is useful for running mini-batch Gradient Descent optimization when the dataset is large.\n",
        "\n",
        "    Output:\n",
        "    X - 3D np.ndarray of shape (batchSize, maxlen, embeddingDim)\n",
        "    y - 1D np. array of shape (batchSize,)\n",
        "    \"\"\"\n",
        "\n",
        "    while(True):\n",
        "        X = []\n",
        "        y = []\n",
        "        for _, row in data.iterrows():\n",
        "            \"\"\"Generate features and label for this row\"\"\"\n",
        "            X_, y_ = row2Features(row)\n",
        "\n",
        "            \"\"\"Keep accumulating the row-wise features\"\"\"\n",
        "            X.append(X_)\n",
        "            y.append(y_)\n",
        "\n",
        "            \"\"\"If number of rows processed is greater than batchSize yield the batch and trim down X & y\n",
        "            Note: This way we avoid running into memory issues by not bloating X and y bigger and bigger\n",
        "            \"\"\"\n",
        "            if len(X) > batchSize:\n",
        "                temp_X, temp_y = np.array(X[:batchSize]), np.array(y[:batchSize])\n",
        "                if shuffle:\n",
        "                    temp_X, temp_y = shuffleArray(temp_X, temp_y)\n",
        "\n",
        "                X, y = X[batchSize:], y[batchSize:]\n",
        "                yield temp_X, temp_y\n",
        "\n",
        "        \"\"\"Yield the remaining few rows when number of rows in data isn't a mutiple of batchSize\"\"\"\n",
        "        if len(X) > 0:\n",
        "            temp_X, temp_y = np.array(X), np.array(y)\n",
        "            if shuffle:\n",
        "                temp_X, temp_y = shuffleArray(temp_X, temp_y)\n",
        "\n",
        "            yield temp_X, temp_y"
      ]
    },
    {
      "cell_type": "code",
      "execution_count": 21,
      "metadata": {
        "id": "G5hgIUr2aejD",
        "scrolled": true,
        "colab": {
          "base_uri": "https://localhost:8080/"
        },
        "outputId": "b27f2c4f-73ee-4326-dacd-93ef616c3c99"
      },
      "outputs": [
        {
          "output_type": "stream",
          "name": "stdout",
          "text": [
            "Batch: 0\n",
            "Shape of X & y matches expected values\n",
            "Batch: 1\n",
            "Shape of X & y matches expected values\n",
            "Batch: 2\n",
            "Shape of X & y matches expected values\n"
          ]
        }
      ],
      "source": [
        "\"\"\"Let's test the generator function for few batches\"\"\"\n",
        "numBatches = 0\n",
        "for i, (X, y) in enumerate(generateModelReadyData(df, batchSize=128, shuffle=True)):\n",
        "    if numBatches >= 3:\n",
        "        break\n",
        "\n",
        "    else:\n",
        "        print(\"Batch:\", i)\n",
        "        assert X.shape == (128, maxlen)\n",
        "        assert y.shape == (128,)\n",
        "        print(\"Shape of X & y matches expected values\")\n",
        "    numBatches += 1"
      ]
    },
    {
      "cell_type": "markdown",
      "metadata": {
        "id": "SHsNvAj-aejE"
      },
      "source": [
        "#### Model Training in Pytorch"
      ]
    },
    {
      "cell_type": "code",
      "execution_count": 22,
      "metadata": {
        "id": "52aARDqjaejE"
      },
      "outputs": [],
      "source": [
        "device = torch.device('cpu' if not torch.cuda.is_available() else 'cuda')"
      ]
    },
    {
      "cell_type": "code",
      "execution_count": 23,
      "metadata": {
        "id": "OFEq6YGyaejF"
      },
      "outputs": [],
      "source": [
        "class SentimentNet(nn.Module):\n",
        "    def __init__(self, embedding_dim, hidden_dim, vocab_size, pretrained_weights):\n",
        "        super(SentimentNet, self).__init__()\n",
        "\n",
        "        self.embedding=nn.Embedding(vocab_size, embedding_dim)\n",
        "        self.embedding.weight.data.copy_(torch.from_numpy(pretrained_weights))\n",
        "\n",
        "        \"\"\"\n",
        "        Adding a dropout layer to force some of the feature values to zero.\n",
        "        Note: Dropout is a regularization technique which sets the activation of few randomly chosen neurons of\n",
        "        a hidden layer to zero. It can also be applied to the input layer where some of the input features are set to zero.\n",
        "        For more details refer http://jmlr.org/papers/v15/srivastava14a.html\n",
        "        \"\"\"\n",
        "        self.sentInputDropout = nn.Dropout(0.2)\n",
        "\n",
        "        \"\"\"\n",
        "        Now let's stack a couple of bidirectional RNNs to process the input sequence and extract features\n",
        "        \"\"\"\n",
        "        self.biLSTM1 = nn.LSTM(embedding_dim, hidden_dim[0], bidirectional=True, batch_first=True)\n",
        "        self.biLSTMDropOut = nn.Dropout(0.2)\n",
        "        self.biLSTM2 = nn.LSTM(2*hidden_dim[0], hidden_dim[1], bidirectional=True, batch_first=True)\n",
        "\n",
        "        self.dropout1 = nn.Dropout(0.2)\n",
        "        self.dense1 = nn.Linear(2*hidden_dim[1], 64)\n",
        "        self.relu1 = nn.ReLU()\n",
        "        self.dropout2 = nn.Dropout(0.2)\n",
        "\n",
        "        self.outputLayer = nn.Linear(64, 1)\n",
        "        self.sigmoid = nn.Sigmoid()\n",
        "\n",
        "        self.hidden_dim = hidden_dim\n",
        "\n",
        "    def forward(self, x):\n",
        "\n",
        "        batch_len = x.shape[0]\n",
        "        out = self.embedding(x)\n",
        "        out = self.sentInputDropout(out)\n",
        "        out, hidden = self.biLSTM1(out)\n",
        "        out = self.biLSTMDropOut(out)\n",
        "        out, hidden = self.biLSTM2(out)\n",
        "        #out=out[:,-1,:]\n",
        "        #print(out.shape)\n",
        "        out = self.dropout1(out)\n",
        "        out = self.dense1(out)\n",
        "        #print(\"After dense1\",out.shape)\n",
        "        out = self.relu1(out)\n",
        "        out = self.dropout2(out)\n",
        "\n",
        "        out = self.outputLayer(out)\n",
        "        #print(\"After outputLayer\",out.shape)\n",
        "        out = self.sigmoid(out)\n",
        "        out = out.view(batch_len, -1)\n",
        "        #print(\"After view\",out.shape)\n",
        "        out = out[:,-1]\n",
        "        #print(\"Lastly\",out.shape)\n",
        "        return out"
      ]
    },
    {
      "cell_type": "code",
      "execution_count": 24,
      "metadata": {
        "id": "EBbK9osRaejG",
        "colab": {
          "base_uri": "https://localhost:8080/"
        },
        "outputId": "55fe795b-ab3c-4702-d6da-9ca8f5923c01"
      },
      "outputs": [
        {
          "output_type": "execute_result",
          "data": {
            "text/plain": [
              "SentimentNet(\n",
              "  (embedding): Embedding(200001, 300)\n",
              "  (sentInputDropout): Dropout(p=0.2, inplace=False)\n",
              "  (biLSTM1): LSTM(300, 256, batch_first=True, bidirectional=True)\n",
              "  (biLSTMDropOut): Dropout(p=0.2, inplace=False)\n",
              "  (biLSTM2): LSTM(512, 128, batch_first=True, bidirectional=True)\n",
              "  (dropout1): Dropout(p=0.2, inplace=False)\n",
              "  (dense1): Linear(in_features=256, out_features=64, bias=True)\n",
              "  (relu1): ReLU()\n",
              "  (dropout2): Dropout(p=0.2, inplace=False)\n",
              "  (outputLayer): Linear(in_features=64, out_features=1, bias=True)\n",
              "  (sigmoid): Sigmoid()\n",
              ")"
            ]
          },
          "metadata": {},
          "execution_count": 24
        }
      ],
      "source": [
        "model = SentimentNet(embeddingDim, [256, 128], 1+len(vocab), pretrained_weights)\n",
        "model.to(device)"
      ]
    },
    {
      "cell_type": "code",
      "execution_count": 25,
      "metadata": {
        "id": "hKUTO-zaaejG"
      },
      "outputs": [],
      "source": [
        "lr=0.005\n",
        "criterion = nn.BCELoss().to(device)\n",
        "optimizer = torch.optim.Adam(model.parameters(), lr=lr)"
      ]
    },
    {
      "cell_type": "code",
      "execution_count": 26,
      "metadata": {
        "colab": {
          "base_uri": "https://localhost:8080/"
        },
        "id": "X-KIjEz3aejG",
        "outputId": "406a1fdc-c64a-42bb-f6ed-47df65d64f00"
      },
      "outputs": [
        {
          "output_type": "stream",
          "name": "stdout",
          "text": [
            "Epoch: 1\n",
            "Running a pass over the training data...\n",
            "Batches completed: 10\n",
            "Batches completed: 20\n",
            "Batches completed: 30\n",
            "Batches completed: 40\n",
            "Batches completed: 50\n",
            "Batches completed: 60\n",
            "Batches completed: 64\n",
            "Running a pass over the test data...\n",
            "Batches completed: 17\n",
            "Epoch: 1/1... Step: 63... Loss: 0.295995... Val Loss: 0.279585\n",
            "Validation loss decreased (inf --> 0.279585).  Saving model ...\n"
          ]
        }
      ],
      "source": [
        "epochs = 1 #do at least 5 epochs to get reasonable results\n",
        "counter = 0\n",
        "print_every = 100\n",
        "clip = 5\n",
        "valid_loss_min = np.Inf\n",
        "\n",
        "model = model.float().to(device)\n",
        "model.train()\n",
        "for i in range(epochs):\n",
        "    print(\"Epoch:\", i+1)\n",
        "    #h = model.init_hidden(128)\n",
        "    print(\"Running a pass over the training data...\")\n",
        "    for j, (inputs, labels) in enumerate(generateModelReadyData(train_df, batchSize=1280, shuffle=True)):\n",
        "        if j >= np.ceil(train_df.shape[0]/1280):\n",
        "            break\n",
        "\n",
        "    #for inputs, labels in train_loader:\n",
        "        counter += 1\n",
        "        #h = tuple([e.data for e in h])\n",
        "        inputs, labels = torch.from_numpy(inputs), torch.from_numpy(labels)\n",
        "        inputs, labels = inputs.to(device), labels.to(device)\n",
        "        model.zero_grad()\n",
        "        #output, h = model(inputs, h)\n",
        "        output = model(inputs.long())\n",
        "        #print(output.shape)\n",
        "        #print(output)\n",
        "        loss = criterion(output.squeeze(), labels.float())\n",
        "        loss.backward()\n",
        "        nn.utils.clip_grad_norm_(model.parameters(), clip)\n",
        "        optimizer.step()\n",
        "        if (j+1) % 10 == 0:\n",
        "            print(\"Batches completed:\", j+1)\n",
        "\n",
        "    print(\"Batches completed:\", j+1)\n",
        "\n",
        "    #val_h = model.init_hidden(batch_size)\n",
        "    val_losses = []\n",
        "    model.eval()\n",
        "    print(\"Running a pass over the test data...\")\n",
        "    for k, (inp, lab) in enumerate(generateModelReadyData(test_df, batchSize=1280, shuffle=False)):\n",
        "        if k >= np.ceil(test_df.shape[0]/1280):\n",
        "            break\n",
        "    #for inp, lab in val_loader:\n",
        "        #val_h = tuple([each.data for each in val_h])\n",
        "        inp, lab = torch.from_numpy(inp), torch.from_numpy(lab)\n",
        "        inp, lab = inp.to(device), lab.to(device)\n",
        "        out = model(inp.long())\n",
        "        val_loss = criterion(out.squeeze(), lab.float())\n",
        "        val_losses.append(val_loss.item())\n",
        "        if (k+1) % 100 == 0:\n",
        "            print(\"Batches completed:\", k+1)\n",
        "\n",
        "    print(\"Batches completed:\", k+1)\n",
        "\n",
        "    model.train()\n",
        "    print(\"Epoch: {}/{}...\".format(i+1, epochs),\n",
        "          \"Step: {}...\".format(counter),\n",
        "          \"Loss: {:.6f}...\".format(loss.item()),\n",
        "          \"Val Loss: {:.6f}\".format(np.mean(val_losses)))\n",
        "    if np.mean(val_losses) <= valid_loss_min:\n",
        "        torch.save(model.state_dict(), './state_dict.pt')\n",
        "        print('Validation loss decreased ({:.6f} --> {:.6f}).  Saving model ...'.format(valid_loss_min,np.mean(val_losses)))\n",
        "        valid_loss_min = np.mean(val_losses)"
      ]
    },
    {
      "cell_type": "code",
      "execution_count": 27,
      "metadata": {
        "id": "nbFaYUc8aejH",
        "colab": {
          "base_uri": "https://localhost:8080/"
        },
        "outputId": "56470935-e89f-4f1a-850e-c722cbcc0e4c"
      },
      "outputs": [
        {
          "output_type": "stream",
          "name": "stdout",
          "text": [
            "Class weights: 0.079 0.921\n"
          ]
        }
      ],
      "source": [
        "\"\"\"\n",
        "Earlier we have seen that the review sentiments are imbalanced with more number of Positive cases than Negative ones.\n",
        "Imbalance datasets make it difficult for the model to learn patterns for the under-represented class.\n",
        "We tackle this problem by introducing class weights during training which are used to assign higher weightage\n",
        "to errors made in predicting the under-represented class.\n",
        "\n",
        "Class weights are computed from inverse of frequency counts as follows.\n",
        "\"\"\"\n",
        "freqCounts = train_df[\"Sentiment\"].value_counts()\n",
        "weightOfPositive = round( (1./freqCounts[\"Positive\"]) / (1./freqCounts[\"Positive\"] + 1./freqCounts[\"Negative\"]), 3)\n",
        "weightOfNegative = round( (1./freqCounts[\"Negative\"]) / (1./freqCounts[\"Positive\"] + 1./freqCounts[\"Negative\"]), 3)\n",
        "print(\"Class weights:\", weightOfPositive, weightOfNegative)"
      ]
    },
    {
      "cell_type": "code",
      "execution_count": 28,
      "metadata": {
        "id": "7eixe83jaejH",
        "colab": {
          "base_uri": "https://localhost:8080/",
          "height": 53
        },
        "outputId": "f56e8dd4-b60d-4c93-999e-7a81c4db55f1"
      },
      "outputs": [
        {
          "output_type": "execute_result",
          "data": {
            "text/plain": [
              "'\\nFor making predictions, optionally you can use CPU instead of GPU. But for that we need to change the device so that Pytorch can \\nrun on CPU. Let us change the device here.\\n'"
            ],
            "application/vnd.google.colaboratory.intrinsic+json": {
              "type": "string"
            }
          },
          "metadata": {},
          "execution_count": 28
        }
      ],
      "source": [
        "\"\"\"\n",
        "For making predictions, optionally you can use CPU instead of GPU. But for that we need to change the device so that Pytorch can\n",
        "run on CPU. Let us change the device here.\n",
        "\"\"\"\n",
        "# device = torch.device(\"cpu\")"
      ]
    },
    {
      "cell_type": "markdown",
      "metadata": {
        "id": "mTES94ApaejH"
      },
      "source": [
        "#### Model Evaluation"
      ]
    },
    {
      "cell_type": "code",
      "execution_count": 29,
      "metadata": {
        "id": "EhRASfvbaejH",
        "colab": {
          "base_uri": "https://localhost:8080/"
        },
        "outputId": "a1f65166-f4eb-40c8-a3bc-64e6de293b8b"
      },
      "outputs": [
        {
          "output_type": "execute_result",
          "data": {
            "text/plain": [
              "SentimentNet(\n",
              "  (embedding): Embedding(200001, 300)\n",
              "  (sentInputDropout): Dropout(p=0.2, inplace=False)\n",
              "  (biLSTM1): LSTM(300, 256, batch_first=True, bidirectional=True)\n",
              "  (biLSTMDropOut): Dropout(p=0.2, inplace=False)\n",
              "  (biLSTM2): LSTM(512, 128, batch_first=True, bidirectional=True)\n",
              "  (dropout1): Dropout(p=0.2, inplace=False)\n",
              "  (dense1): Linear(in_features=256, out_features=64, bias=True)\n",
              "  (relu1): ReLU()\n",
              "  (dropout2): Dropout(p=0.2, inplace=False)\n",
              "  (outputLayer): Linear(in_features=64, out_features=1, bias=True)\n",
              "  (sigmoid): Sigmoid()\n",
              ")"
            ]
          },
          "metadata": {},
          "execution_count": 29
        }
      ],
      "source": [
        "\"\"\"\n",
        "At this point we can load a pretrained model which was trained for 5 epochs and make predictions using it.\n",
        "Uncomment and run the below line to load the pretrained model\n",
        "\"\"\"\n",
        "model.load_state_dict(torch.load('./state_dict.pt'))\n",
        "model.to(device)"
      ]
    },
    {
      "cell_type": "code",
      "execution_count": 30,
      "metadata": {
        "id": "G5kdAi0GaejH",
        "colab": {
          "base_uri": "https://localhost:8080/"
        },
        "outputId": "8051b954-3a2d-4ad9-864a-22e3a5763e58"
      },
      "outputs": [
        {
          "output_type": "stream",
          "name": "stdout",
          "text": [
            "Batches completed: 100\n",
            "Batches completed: 158\n",
            "Test loss: 0.260\n",
            "Test accuracy: 92.095%\n"
          ]
        }
      ],
      "source": [
        "test_losses = []\n",
        "num_correct = 0\n",
        "pred_proba = []\n",
        "actual = []\n",
        "\n",
        "model.eval()\n",
        "for j, (X_test, y_test) in enumerate(generateModelReadyData(test_df, batchSize=128)):\n",
        "    if j >= np.ceil(test_df.shape[0]/128):\n",
        "        break\n",
        "\n",
        "    inputs_test, labels_test = torch.from_numpy(X_test), torch.from_numpy(y_test)\n",
        "    inputs_test, labels_test = inputs_test.to(device), labels_test.to(device)\n",
        "    output_test = model(inputs_test.long())\n",
        "    test_loss = criterion(output_test.squeeze(), labels_test.float())\n",
        "    test_losses.append(test_loss.item())\n",
        "    pred = torch.round(output_test.squeeze())  # Rounds the output to 0/1\n",
        "    correct_tensor = pred.eq(labels_test.float().view_as(pred))\n",
        "    correct = np.squeeze(correct_tensor.cpu().numpy())\n",
        "    num_correct += np.sum(correct)\n",
        "    pred_proba.extend(output_test.cpu().squeeze().detach().numpy())\n",
        "    actual.extend(y_test)\n",
        "\n",
        "    if (j+1) % 100 == 0:\n",
        "        print(\"Batches completed:\", j+1)\n",
        "\n",
        "print(\"Batches completed:\", j+1)\n",
        "\n",
        "print(\"Test loss: {:.3f}\".format(np.mean(test_losses)))\n",
        "test_acc = num_correct/len(test_df)\n",
        "print(\"Test accuracy: {:.3f}%\".format(test_acc*100))"
      ]
    },
    {
      "cell_type": "code",
      "execution_count": 31,
      "metadata": {
        "id": "bK_hDRFRaejI",
        "colab": {
          "base_uri": "https://localhost:8080/"
        },
        "outputId": "dd8c0375-bc92-4b6d-ce3f-77fde7c8acea"
      },
      "outputs": [
        {
          "output_type": "stream",
          "name": "stdout",
          "text": [
            "Area under ROC: 0.7489329573637266\n"
          ]
        }
      ],
      "source": [
        "\"\"\"\n",
        "Evaluate using Area Under Reciever Operating Charecteristic curve\n",
        "Reference on AUC-ROC: https://towardsdatascience.com/understanding-auc-roc-curve-68b2303cc9c5\n",
        "\"\"\"\n",
        "print(\"Area under ROC:\", roc_auc_score(actual, pred_proba))"
      ]
    },
    {
      "cell_type": "code",
      "execution_count": 32,
      "metadata": {
        "id": "DZd_9FVWaejI",
        "colab": {
          "base_uri": "https://localhost:8080/",
          "height": 472
        },
        "outputId": "e7226e6f-0227-4daa-cc85-cc4856e8eb63"
      },
      "outputs": [
        {
          "output_type": "display_data",
          "data": {
            "text/plain": [
              "<Figure size 640x480 with 1 Axes>"
            ],
            "image/png": "[encoded data removed]"
          },
          "metadata": {}
        }
      ],
      "source": [
        "\"\"\"\n",
        "Let's plot the ROC curve.\n",
        "First, we will compute False Positive Rate (FPR) & True Postive Rate (TPR) for different values of threshold and\n",
        "find the area under the curve.\n",
        "Note: Positive here indicates class label = 1 which is Negative sentiment in our case\n",
        "      Negative indicates class label = 0 which is Positive sentiment in our case\n",
        "\"\"\"\n",
        "fpr, tpr, thresholds = roc_curve(actual, pred_proba)\n",
        "roc_auc = auc(fpr, tpr)\n",
        "\n",
        "plt.figure()\n",
        "lw = 2\n",
        "plt.plot(fpr, tpr, color='darkorange',\n",
        "         lw=lw, label='ROC curve (area = %0.2f)' % roc_auc)\n",
        "plt.plot([0, 1], [0, 1], color='navy', lw=lw, linestyle='--')\n",
        "plt.xlim([0.0, 1.0])\n",
        "plt.ylim([0.0, 1.05])\n",
        "plt.xlabel('False Positive Rate')\n",
        "plt.ylabel('True Positive Rate')\n",
        "plt.title('Receiver operating characteristic example')\n",
        "plt.legend(loc=\"lower right\")\n",
        "plt.show()"
      ]
    },
    {
      "cell_type": "code",
      "execution_count": 33,
      "metadata": {
        "id": "QQ1-OvCNaejI"
      },
      "outputs": [],
      "source": [
        "\"\"\"\n",
        "Let's convert predicted probabilites to predicted sentiments using a threshold=0.10\n",
        "and compute the confusion matrix\n",
        "\"\"\"\n",
        "\n",
        "predicted = pd.Series([\"Negative\" if p>=0.10 else \"Positive\" for p in pred_proba], name=\"Predicted\")\n",
        "actual = pd.Series(test_df[\"Sentiment\"], name=\"Actual\")\n",
        "confusion_matrix = pd.crosstab(actual, predicted)"
      ]
    },
    {
      "cell_type": "code",
      "execution_count": 34,
      "metadata": {
        "id": "j_xf7T-TaejJ",
        "colab": {
          "base_uri": "https://localhost:8080/",
          "height": 472
        },
        "outputId": "70980db4-2ae7-4f3b-acad-99600cc8fc89"
      },
      "outputs": [
        {
          "output_type": "display_data",
          "data": {
            "text/plain": [
              "<Figure size 640x480 with 2 Axes>"
            ],
            "image/png": "[encoded data removed]"
          },
          "metadata": {}
        }
      ],
      "source": [
        "\"\"\"Plot the confusion matrix\"\"\"\n",
        "\n",
        "ax= plt.subplot()\n",
        "g = sns.heatmap(confusion_matrix.values, annot=True, ax = ax, fmt=\"d\", cmap=\"YlGnBu\")\n",
        "g.set_xlabel('Predicted')\n",
        "g.set_ylabel('Actual')\n",
        "g.set_title('Confusion Matrix')\n",
        "g.xaxis.set_ticklabels(['Negative', 'Positive'])\n",
        "g.yaxis.set_ticklabels(['Negative', 'Positive'])\n",
        "plt.show()"
      ]
    },
    {
      "cell_type": "markdown",
      "metadata": {
        "id": "W_wJ0xVbaejJ"
      },
      "source": [
        "#### Sentiment Prediction for new reviews"
      ]
    },
    {
      "cell_type": "code",
      "execution_count": 35,
      "metadata": {
        "id": "aNAUiqSmaejJ"
      },
      "outputs": [],
      "source": [
        "\"\"\"\n",
        "Let us now see how to predict Sentiment of a review. For this we'll use the function\n",
        "reviewText2Features which converts a review into a feature matrix X. However, X is 2D tensor while the model's network\n",
        "expects a 3D tensor of dimensions (batch_size, maxlen, embeddingDim). Hence, for a single review we reshape the output\n",
        "of reviewText2Features to dimensions (1, maxlen, embeddingDim). This 3D matrix is given to the model which outputs predicted\n",
        "probability. This in turn is converted to Sentiment applying the above threshold.\n",
        "\n",
        "The below function wraps in all these logic.\n",
        "\"\"\"\n",
        "\n",
        "def predictSentiment(reviewText):\n",
        "    X = reviewText2Features(reviewText)\n",
        "    X = np.array(X).reshape((1, -1))\n",
        "    X = torch.from_numpy(X)\n",
        "    X = X.to(device)\n",
        "    model.eval()\n",
        "    pred_proba = model(X.long())\n",
        "    pred_proba = pred_proba.cpu().squeeze().detach().numpy()\n",
        "    if pred_proba >= 0.10:\n",
        "        return \"Negative\", pred_proba\n",
        "    else:\n",
        "        return \"Positive\", pred_proba"
      ]
    },
    {
      "cell_type": "code",
      "execution_count": 36,
      "metadata": {
        "id": "r7mWq1VBaejJ",
        "colab": {
          "base_uri": "https://localhost:8080/"
        },
        "outputId": "f7b398b0-3b0f-48a5-c502-9d154c9bdca0"
      },
      "outputs": [
        {
          "output_type": "stream",
          "name": "stdout",
          "text": [
            "Review:  A dream cottage in a dream village. A very personal service so hard to find these days and by far the most idealistic B & B i have stayed in. Would highly recommend and looking forward to staying again when next in the area. Cornwall.\n",
            "Actual Sentiment: Positive\n",
            "Predicted Sentiment:  Positive\n",
            "x---------------------------------------------------------------------------------------------------x\n",
            "Review:  Always stay here when in Brighton and wouldn't ever think of staying anywhere else. Comfortable, clean and warm rooms. The owners are very welcoming and genuinely nice people. I realise that I am shooting myself in the foot by encouraging others to stay but anything less than a good review wouldn't be right.    \n",
            "Actual Sentiment: Positive\n",
            "Predicted Sentiment:  Positive\n",
            "x---------------------------------------------------------------------------------------------------x\n",
            "Review:  A warm welcome awaits at this secluded B+B. Bright comfortable rooms with garden views and a very comfortable bed. A wide choice of breakfast served in a bright conservatory makes for a good start to the day. Gary was very helpful with local knowledge and the hosts contributed to a very enjoyable stay. Will certainly stay again when in the area.\n",
            "Actual Sentiment: Positive\n",
            "Predicted Sentiment:  Positive\n",
            "x---------------------------------------------------------------------------------------------------x\n",
            "Review:  Ann and David are perfect hosts and a stay in their home is relaxing and warm. Their attention to details makes a person feel properly cared for and their kindness sets the tone for a wonderful town and outstanding countryside. Highly recommended.\n",
            "Actual Sentiment: Positive\n",
            "Predicted Sentiment:  Positive\n",
            "x---------------------------------------------------------------------------------------------------x\n",
            "Review:  A very comfortable B&B located a short walk outside Armagh backing on to rolling countryside. We were warmly welcomed by Maureen who was very friendly and provided us with a good breakfast. A little hard to find as B&Bs are apparently not allowed to put up direction signs! Our only minor issue... the overly bright green night lights that we were unable to turn off in the rooms. \n",
            "Actual Sentiment: Positive\n",
            "Predicted Sentiment:  Negative\n",
            "x---------------------------------------------------------------------------------------------------x\n",
            "Review:  This place was vile! Would never stay here again the people who own it were friendly but it stunk of smoke and dogs barking in the breakfast room mould in the bathroom I would say 50 quid for the night was expensive I would of rather slept in the car I didn't feel safe at all there was banging and shouting in the hallways on a night and a man on a bike constantly outside swearing and looking around very strange and people slamming doors never would I stop here again, however the staff were very kind and did make us feel welcome \n",
            "Actual Sentiment: Negative\n",
            "Predicted Sentiment:  Positive\n",
            "x---------------------------------------------------------------------------------------------------x\n",
            "Review:  I had the unfortunate situation of having to collect my sister from this accommodation after she cut her foot on a shard of glass which had been left on floor this was after they owners had not been at the accommodation at the agreed time for check in and followed by a cold shower.  To add further insult when we went to collect her belongings and explain why the accommodation was not suitable the female owner was insulting, rude and wholly unprofessional. All I can say is that I am so pleased my sister did not have to stay there. \n",
            "Actual Sentiment: Negative\n",
            "Predicted Sentiment:  Negative\n",
            "x---------------------------------------------------------------------------------------------------x\n",
            "Review:  Lovely position for sea. Did tell me no cooked breakfast but dining room table thick dust. Milk, fruit juice etc all been used by other guests and long way from room. Bedroom cramped. Bathroom had to go through owners part to reach. Moved to hotel in Eastbourne much cheaper, cleaner and had service and cooked breakfast. \n",
            "Actual Sentiment: Negative\n",
            "Predicted Sentiment:  Positive\n",
            "x---------------------------------------------------------------------------------------------------x\n",
            "Review:  Booked a room got to hotel no staff called number to be given code to door n help self.got into room and yuk really tatty. Dirty carpet.damp walls n stunk it was that bad I left straight away. I've never seen anything so bad.\n",
            "Actual Sentiment: Negative\n",
            "Predicted Sentiment:  Negative\n",
            "x---------------------------------------------------------------------------------------------------x\n",
            "Review:  i think is good for everyone from any class.hey!you have to be there.\n",
            "Actual Sentiment: Negative\n",
            "Predicted Sentiment:  Negative\n",
            "x---------------------------------------------------------------------------------------------------x\n"
          ]
        }
      ],
      "source": [
        "\"\"\"\n",
        "Now test the above function with few positive and negative reviews from test_df\n",
        "\"\"\"\n",
        "\n",
        "pos_reviews = list(test_df[\"Review\"].loc[test_df[\"Sentiment\"] == \"Positive\"].iloc[:5])\n",
        "neg_reviews = list(test_df[\"Review\"].loc[test_df[\"Sentiment\"] == \"Negative\"].iloc[:5])\n",
        "\n",
        "for reviewText, actualSentiment in  zip(pos_reviews + neg_reviews, [\"Positive\"]*5+[\"Negative\"]*5):\n",
        "    sentiment, probability = predictSentiment(reviewText)\n",
        "    \"\"\"\n",
        "    Since, the model always predicts probability of being Negative, we compute (1-probability) as\n",
        "    probability when predicted sentiment is Positive\n",
        "    \"\"\"\n",
        "    if sentiment == \"Positive\":\n",
        "        probability = 1 - probability\n",
        "\n",
        "    probability = np.round(probability, 4)\n",
        "    print(\"Review: \", reviewText)\n",
        "    print(\"Actual Sentiment:\", actualSentiment)\n",
        "    print(\"Predicted Sentiment: \", sentiment)\n",
        "    print(\"x---------------------------------------------------------------------------------------------------x\")"
      ]
    },
    {
      "cell_type": "code",
      "source": [],
      "metadata": {
        "id": "sox9WcY2cBm0"
      },
      "execution_count": null,
      "outputs": []
    }
  ],
  "metadata": {
    "colab": {
      "provenance": []
    },
    "kernelspec": {
      "display_name": "Python 3",
      "language": "python",
      "name": "python3"
    },
    "language_info": {
      "codemirror_mode": {
        "name": "ipython",
        "version": 3
      },
      "file_extension": ".py",
      "mimetype": "text/x-python",
      "name": "python",
      "nbconvert_exporter": "python",
      "pygments_lexer": "ipython3",
      "version": "3.6.10"
    },
    "accelerator": "GPU",
    "gpuClass": "standard"
  },
  "nbformat": 4,
  "nbformat_minor": 0
}